{
  "nbformat": 4,
  "nbformat_minor": 0,
  "metadata": {
    "kernelspec": {
      "display_name": "Python 3",
      "language": "python",
      "name": "python3"
    },
    "language_info": {
      "codemirror_mode": {
        "name": "ipython",
        "version": 3
      },
      "file_extension": ".py",
      "mimetype": "text/x-python",
      "name": "python",
      "nbconvert_exporter": "python",
      "pygments_lexer": "ipython3",
      "version": "3.7.4"
    },
    "colab": {
      "name": "Spotipy_Data_Trial_Error.ipynb",
      "provenance": [],
      "collapsed_sections": []
    }
  },
  "cells": [
    {
      "cell_type": "code",
      "metadata": {
        "id": "5CLfxUeEtRh4",
        "colab_type": "code",
        "outputId": "db515b05-ef4e-43b7-e343-08be5167f144",
        "colab": {
          "base_uri": "https://localhost:8080/",
          "height": 214
        }
      },
      "source": [
        "pip install spotipy"
      ],
      "execution_count": 0,
      "outputs": [
        {
          "output_type": "stream",
          "text": [
            "Collecting spotipy\n",
            "  Downloading https://files.pythonhosted.org/packages/b2/67/ea788ae3d7e3aad0b0ef72a4f5b6c24c1dbb3db83fd57efc221f86b4fe87/spotipy-2.12.0-py3-none-any.whl\n",
            "Requirement already satisfied: six>=1.10.0 in /usr/local/lib/python3.6/dist-packages (from spotipy) (1.12.0)\n",
            "Requirement already satisfied: requests>=2.20.0 in /usr/local/lib/python3.6/dist-packages (from spotipy) (2.21.0)\n",
            "Requirement already satisfied: chardet<3.1.0,>=3.0.2 in /usr/local/lib/python3.6/dist-packages (from requests>=2.20.0->spotipy) (3.0.4)\n",
            "Requirement already satisfied: certifi>=2017.4.17 in /usr/local/lib/python3.6/dist-packages (from requests>=2.20.0->spotipy) (2020.4.5.1)\n",
            "Requirement already satisfied: idna<2.9,>=2.5 in /usr/local/lib/python3.6/dist-packages (from requests>=2.20.0->spotipy) (2.8)\n",
            "Requirement already satisfied: urllib3<1.25,>=1.21.1 in /usr/local/lib/python3.6/dist-packages (from requests>=2.20.0->spotipy) (1.24.3)\n",
            "Installing collected packages: spotipy\n",
            "Successfully installed spotipy-2.12.0\n"
          ],
          "name": "stdout"
        }
      ]
    },
    {
      "cell_type": "code",
      "metadata": {
        "id": "jttPsKktvlMN",
        "colab_type": "code",
        "outputId": "ded3bbb5-3e4a-45c0-e27b-b4f499e2c8e2",
        "colab": {
          "base_uri": "https://localhost:8080/",
          "height": 98
        }
      },
      "source": [
        "pip install psycopg2-binary"
      ],
      "execution_count": 0,
      "outputs": [
        {
          "output_type": "stream",
          "text": [
            "Collecting psycopg2-binary\n",
            "\u001b[?25l  Downloading https://files.pythonhosted.org/packages/d3/8a/a7ed55c2c55bd4f5844d72734fedc0cef8a74518a0a19105a21c15628f1e/psycopg2_binary-2.8.5-cp36-cp36m-manylinux1_x86_64.whl (2.9MB)\n",
            "\r\u001b[K     |▏                               | 10kB 14.8MB/s eta 0:00:01\r\u001b[K     |▎                               | 20kB 1.8MB/s eta 0:00:02\r\u001b[K     |▍                               | 30kB 2.3MB/s eta 0:00:02\r\u001b[K     |▌                               | 40kB 3.1MB/s eta 0:00:01\r\u001b[K     |▋                               | 51kB 2.1MB/s eta 0:00:02\r\u001b[K     |▊                               | 61kB 2.4MB/s eta 0:00:02\r\u001b[K     |▉                               | 71kB 2.8MB/s eta 0:00:02\r\u001b[K     |█                               | 81kB 3.1MB/s eta 0:00:01\r\u001b[K     |█                               | 92kB 3.5MB/s eta 0:00:01\r\u001b[K     |█▏                              | 102kB 2.8MB/s eta 0:00:02\r\u001b[K     |█▎                              | 112kB 2.8MB/s eta 0:00:02\r\u001b[K     |█▍                              | 122kB 2.8MB/s eta 0:00:01\r\u001b[K     |█▌                              | 133kB 2.8MB/s eta 0:00:01\r\u001b[K     |█▋                              | 143kB 2.8MB/s eta 0:00:01\r\u001b[K     |█▊                              | 153kB 2.8MB/s eta 0:00:01\r\u001b[K     |█▉                              | 163kB 2.8MB/s eta 0:00:01\r\u001b[K     |██                              | 174kB 2.8MB/s eta 0:00:01\r\u001b[K     |██                              | 184kB 2.8MB/s eta 0:00:01\r\u001b[K     |██▏                             | 194kB 2.8MB/s eta 0:00:01\r\u001b[K     |██▎                             | 204kB 2.8MB/s eta 0:00:01\r\u001b[K     |██▍                             | 215kB 2.8MB/s eta 0:00:01\r\u001b[K     |██▌                             | 225kB 2.8MB/s eta 0:00:01\r\u001b[K     |██▋                             | 235kB 2.8MB/s eta 0:00:01\r\u001b[K     |██▊                             | 245kB 2.8MB/s eta 0:00:01\r\u001b[K     |██▉                             | 256kB 2.8MB/s eta 0:00:01\r\u001b[K     |███                             | 266kB 2.8MB/s eta 0:00:01\r\u001b[K     |███                             | 276kB 2.8MB/s eta 0:00:01\r\u001b[K     |███▏                            | 286kB 2.8MB/s eta 0:00:01\r\u001b[K     |███▎                            | 296kB 2.8MB/s eta 0:00:01\r\u001b[K     |███▍                            | 307kB 2.8MB/s eta 0:00:01\r\u001b[K     |███▌                            | 317kB 2.8MB/s eta 0:00:01\r\u001b[K     |███▋                            | 327kB 2.8MB/s eta 0:00:01\r\u001b[K     |███▊                            | 337kB 2.8MB/s eta 0:00:01\r\u001b[K     |███▉                            | 348kB 2.8MB/s eta 0:00:01\r\u001b[K     |████                            | 358kB 2.8MB/s eta 0:00:01\r\u001b[K     |████                            | 368kB 2.8MB/s eta 0:00:01\r\u001b[K     |████▏                           | 378kB 2.8MB/s eta 0:00:01\r\u001b[K     |████▎                           | 389kB 2.8MB/s eta 0:00:01\r\u001b[K     |████▍                           | 399kB 2.8MB/s eta 0:00:01\r\u001b[K     |████▌                           | 409kB 2.8MB/s eta 0:00:01\r\u001b[K     |████▋                           | 419kB 2.8MB/s eta 0:00:01\r\u001b[K     |████▊                           | 430kB 2.8MB/s eta 0:00:01\r\u001b[K     |████▉                           | 440kB 2.8MB/s eta 0:00:01\r\u001b[K     |█████                           | 450kB 2.8MB/s eta 0:00:01\r\u001b[K     |█████                           | 460kB 2.8MB/s eta 0:00:01\r\u001b[K     |█████▏                          | 471kB 2.8MB/s eta 0:00:01\r\u001b[K     |█████▎                          | 481kB 2.8MB/s eta 0:00:01\r\u001b[K     |█████▍                          | 491kB 2.8MB/s eta 0:00:01\r\u001b[K     |█████▌                          | 501kB 2.8MB/s eta 0:00:01\r\u001b[K     |█████▋                          | 512kB 2.8MB/s eta 0:00:01\r\u001b[K     |█████▊                          | 522kB 2.8MB/s eta 0:00:01\r\u001b[K     |█████▉                          | 532kB 2.8MB/s eta 0:00:01\r\u001b[K     |██████                          | 542kB 2.8MB/s eta 0:00:01\r\u001b[K     |██████                          | 552kB 2.8MB/s eta 0:00:01\r\u001b[K     |██████▏                         | 563kB 2.8MB/s eta 0:00:01\r\u001b[K     |██████▎                         | 573kB 2.8MB/s eta 0:00:01\r\u001b[K     |██████▍                         | 583kB 2.8MB/s eta 0:00:01\r\u001b[K     |██████▌                         | 593kB 2.8MB/s eta 0:00:01\r\u001b[K     |██████▋                         | 604kB 2.8MB/s eta 0:00:01\r\u001b[K     |██████▊                         | 614kB 2.8MB/s eta 0:00:01\r\u001b[K     |██████▉                         | 624kB 2.8MB/s eta 0:00:01\r\u001b[K     |███████                         | 634kB 2.8MB/s eta 0:00:01\r\u001b[K     |███████                         | 645kB 2.8MB/s eta 0:00:01\r\u001b[K     |███████▏                        | 655kB 2.8MB/s eta 0:00:01\r\u001b[K     |███████▎                        | 665kB 2.8MB/s eta 0:00:01\r\u001b[K     |███████▍                        | 675kB 2.8MB/s eta 0:00:01\r\u001b[K     |███████▌                        | 686kB 2.8MB/s eta 0:00:01\r\u001b[K     |███████▋                        | 696kB 2.8MB/s eta 0:00:01\r\u001b[K     |███████▊                        | 706kB 2.8MB/s eta 0:00:01\r\u001b[K     |███████▉                        | 716kB 2.8MB/s eta 0:00:01\r\u001b[K     |████████                        | 727kB 2.8MB/s eta 0:00:01\r\u001b[K     |████████                        | 737kB 2.8MB/s eta 0:00:01\r\u001b[K     |████████▏                       | 747kB 2.8MB/s eta 0:00:01\r\u001b[K     |████████▎                       | 757kB 2.8MB/s eta 0:00:01\r\u001b[K     |████████▍                       | 768kB 2.8MB/s eta 0:00:01\r\u001b[K     |████████▌                       | 778kB 2.8MB/s eta 0:00:01\r\u001b[K     |████████▋                       | 788kB 2.8MB/s eta 0:00:01\r\u001b[K     |████████▊                       | 798kB 2.8MB/s eta 0:00:01\r\u001b[K     |████████▉                       | 808kB 2.8MB/s eta 0:00:01\r\u001b[K     |█████████                       | 819kB 2.8MB/s eta 0:00:01\r\u001b[K     |█████████                       | 829kB 2.8MB/s eta 0:00:01\r\u001b[K     |█████████▏                      | 839kB 2.8MB/s eta 0:00:01\r\u001b[K     |█████████▎                      | 849kB 2.8MB/s eta 0:00:01\r\u001b[K     |█████████▍                      | 860kB 2.8MB/s eta 0:00:01\r\u001b[K     |█████████▌                      | 870kB 2.8MB/s eta 0:00:01\r\u001b[K     |█████████▋                      | 880kB 2.8MB/s eta 0:00:01\r\u001b[K     |█████████▊                      | 890kB 2.8MB/s eta 0:00:01\r\u001b[K     |█████████▉                      | 901kB 2.8MB/s eta 0:00:01\r\u001b[K     |██████████                      | 911kB 2.8MB/s eta 0:00:01\r\u001b[K     |██████████                      | 921kB 2.8MB/s eta 0:00:01\r\u001b[K     |██████████▏                     | 931kB 2.8MB/s eta 0:00:01\r\u001b[K     |██████████▎                     | 942kB 2.8MB/s eta 0:00:01\r\u001b[K     |██████████▍                     | 952kB 2.8MB/s eta 0:00:01\r\u001b[K     |██████████▌                     | 962kB 2.8MB/s eta 0:00:01\r\u001b[K     |██████████▋                     | 972kB 2.8MB/s eta 0:00:01\r\u001b[K     |██████████▊                     | 983kB 2.8MB/s eta 0:00:01\r\u001b[K     |██████████▉                     | 993kB 2.8MB/s eta 0:00:01\r\u001b[K     |███████████                     | 1.0MB 2.8MB/s eta 0:00:01\r\u001b[K     |███████████                     | 1.0MB 2.8MB/s eta 0:00:01\r\u001b[K     |███████████▏                    | 1.0MB 2.8MB/s eta 0:00:01\r\u001b[K     |███████████▎                    | 1.0MB 2.8MB/s eta 0:00:01\r\u001b[K     |███████████▍                    | 1.0MB 2.8MB/s eta 0:00:01\r\u001b[K     |███████████▌                    | 1.1MB 2.8MB/s eta 0:00:01\r\u001b[K     |███████████▋                    | 1.1MB 2.8MB/s eta 0:00:01\r\u001b[K     |███████████▊                    | 1.1MB 2.8MB/s eta 0:00:01\r\u001b[K     |███████████▉                    | 1.1MB 2.8MB/s eta 0:00:01\r\u001b[K     |████████████                    | 1.1MB 2.8MB/s eta 0:00:01\r\u001b[K     |████████████                    | 1.1MB 2.8MB/s eta 0:00:01\r\u001b[K     |████████████▏                   | 1.1MB 2.8MB/s eta 0:00:01\r\u001b[K     |████████████▎                   | 1.1MB 2.8MB/s eta 0:00:01\r\u001b[K     |████████████▍                   | 1.1MB 2.8MB/s eta 0:00:01\r\u001b[K     |████████████▌                   | 1.1MB 2.8MB/s eta 0:00:01\r\u001b[K     |████████████▋                   | 1.2MB 2.8MB/s eta 0:00:01\r\u001b[K     |████████████▊                   | 1.2MB 2.8MB/s eta 0:00:01\r\u001b[K     |████████████▉                   | 1.2MB 2.8MB/s eta 0:00:01\r\u001b[K     |█████████████                   | 1.2MB 2.8MB/s eta 0:00:01\r\u001b[K     |█████████████                   | 1.2MB 2.8MB/s eta 0:00:01\r\u001b[K     |█████████████▏                  | 1.2MB 2.8MB/s eta 0:00:01\r\u001b[K     |█████████████▎                  | 1.2MB 2.8MB/s eta 0:00:01\r\u001b[K     |█████████████▍                  | 1.2MB 2.8MB/s eta 0:00:01\r\u001b[K     |█████████████▌                  | 1.2MB 2.8MB/s eta 0:00:01\r\u001b[K     |█████████████▋                  | 1.2MB 2.8MB/s eta 0:00:01\r\u001b[K     |█████████████▊                  | 1.3MB 2.8MB/s eta 0:00:01\r\u001b[K     |█████████████▉                  | 1.3MB 2.8MB/s eta 0:00:01\r\u001b[K     |██████████████                  | 1.3MB 2.8MB/s eta 0:00:01\r\u001b[K     |██████████████                  | 1.3MB 2.8MB/s eta 0:00:01\r\u001b[K     |██████████████▏                 | 1.3MB 2.8MB/s eta 0:00:01\r\u001b[K     |██████████████▎                 | 1.3MB 2.8MB/s eta 0:00:01\r\u001b[K     |██████████████▍                 | 1.3MB 2.8MB/s eta 0:00:01\r\u001b[K     |██████████████▌                 | 1.3MB 2.8MB/s eta 0:00:01\r\u001b[K     |██████████████▋                 | 1.3MB 2.8MB/s eta 0:00:01\r\u001b[K     |██████████████▊                 | 1.4MB 2.8MB/s eta 0:00:01\r\u001b[K     |██████████████▉                 | 1.4MB 2.8MB/s eta 0:00:01\r\u001b[K     |███████████████                 | 1.4MB 2.8MB/s eta 0:00:01\r\u001b[K     |███████████████                 | 1.4MB 2.8MB/s eta 0:00:01\r\u001b[K     |███████████████▏                | 1.4MB 2.8MB/s eta 0:00:01\r\u001b[K     |███████████████▎                | 1.4MB 2.8MB/s eta 0:00:01\r\u001b[K     |███████████████▍                | 1.4MB 2.8MB/s eta 0:00:01\r\u001b[K     |███████████████▌                | 1.4MB 2.8MB/s eta 0:00:01\r\u001b[K     |███████████████▋                | 1.4MB 2.8MB/s eta 0:00:01\r\u001b[K     |███████████████▊                | 1.4MB 2.8MB/s eta 0:00:01\r\u001b[K     |███████████████▉                | 1.5MB 2.8MB/s eta 0:00:01\r\u001b[K     |████████████████                | 1.5MB 2.8MB/s eta 0:00:01\r\u001b[K     |████████████████                | 1.5MB 2.8MB/s eta 0:00:01\r\u001b[K     |████████████████▏               | 1.5MB 2.8MB/s eta 0:00:01\r\u001b[K     |████████████████▎               | 1.5MB 2.8MB/s eta 0:00:01\r\u001b[K     |████████████████▍               | 1.5MB 2.8MB/s eta 0:00:01\r\u001b[K     |████████████████▌               | 1.5MB 2.8MB/s eta 0:00:01\r\u001b[K     |████████████████▋               | 1.5MB 2.8MB/s eta 0:00:01\r\u001b[K     |████████████████▊               | 1.5MB 2.8MB/s eta 0:00:01\r\u001b[K     |████████████████▉               | 1.5MB 2.8MB/s eta 0:00:01\r\u001b[K     |█████████████████               | 1.6MB 2.8MB/s eta 0:00:01\r\u001b[K     |█████████████████               | 1.6MB 2.8MB/s eta 0:00:01\r\u001b[K     |█████████████████▏              | 1.6MB 2.8MB/s eta 0:00:01\r\u001b[K     |█████████████████▎              | 1.6MB 2.8MB/s eta 0:00:01\r\u001b[K     |█████████████████▍              | 1.6MB 2.8MB/s eta 0:00:01\r\u001b[K     |█████████████████▌              | 1.6MB 2.8MB/s eta 0:00:01\r\u001b[K     |█████████████████▋              | 1.6MB 2.8MB/s eta 0:00:01\r\u001b[K     |█████████████████▊              | 1.6MB 2.8MB/s eta 0:00:01\r\u001b[K     |█████████████████▉              | 1.6MB 2.8MB/s eta 0:00:01\r\u001b[K     |██████████████████              | 1.6MB 2.8MB/s eta 0:00:01\r\u001b[K     |██████████████████              | 1.7MB 2.8MB/s eta 0:00:01\r\u001b[K     |██████████████████▏             | 1.7MB 2.8MB/s eta 0:00:01\r\u001b[K     |██████████████████▎             | 1.7MB 2.8MB/s eta 0:00:01\r\u001b[K     |██████████████████▍             | 1.7MB 2.8MB/s eta 0:00:01\r\u001b[K     |██████████████████▌             | 1.7MB 2.8MB/s eta 0:00:01\r\u001b[K     |██████████████████▋             | 1.7MB 2.8MB/s eta 0:00:01\r\u001b[K     |██████████████████▊             | 1.7MB 2.8MB/s eta 0:00:01\r\u001b[K     |██████████████████▉             | 1.7MB 2.8MB/s eta 0:00:01\r\u001b[K     |███████████████████             | 1.7MB 2.8MB/s eta 0:00:01\r\u001b[K     |███████████████████             | 1.8MB 2.8MB/s eta 0:00:01\r\u001b[K     |███████████████████▏            | 1.8MB 2.8MB/s eta 0:00:01\r\u001b[K     |███████████████████▎            | 1.8MB 2.8MB/s eta 0:00:01\r\u001b[K     |███████████████████▍            | 1.8MB 2.8MB/s eta 0:00:01\r\u001b[K     |███████████████████▌            | 1.8MB 2.8MB/s eta 0:00:01\r\u001b[K     |███████████████████▋            | 1.8MB 2.8MB/s eta 0:00:01\r\u001b[K     |███████████████████▊            | 1.8MB 2.8MB/s eta 0:00:01\r\u001b[K     |███████████████████▉            | 1.8MB 2.8MB/s eta 0:00:01\r\u001b[K     |████████████████████            | 1.8MB 2.8MB/s eta 0:00:01\r\u001b[K     |████████████████████            | 1.8MB 2.8MB/s eta 0:00:01\r\u001b[K     |████████████████████▏           | 1.9MB 2.8MB/s eta 0:00:01\r\u001b[K     |████████████████████▎           | 1.9MB 2.8MB/s eta 0:00:01\r\u001b[K     |████████████████████▍           | 1.9MB 2.8MB/s eta 0:00:01\r\u001b[K     |████████████████████▌           | 1.9MB 2.8MB/s eta 0:00:01\r\u001b[K     |████████████████████▋           | 1.9MB 2.8MB/s eta 0:00:01\r\u001b[K     |████████████████████▊           | 1.9MB 2.8MB/s eta 0:00:01\r\u001b[K     |████████████████████▉           | 1.9MB 2.8MB/s eta 0:00:01\r\u001b[K     |█████████████████████           | 1.9MB 2.8MB/s eta 0:00:01\r\u001b[K     |█████████████████████           | 1.9MB 2.8MB/s eta 0:00:01\r\u001b[K     |█████████████████████▏          | 1.9MB 2.8MB/s eta 0:00:01\r\u001b[K     |█████████████████████▎          | 2.0MB 2.8MB/s eta 0:00:01\r\u001b[K     |█████████████████████▍          | 2.0MB 2.8MB/s eta 0:00:01\r\u001b[K     |█████████████████████▌          | 2.0MB 2.8MB/s eta 0:00:01\r\u001b[K     |█████████████████████▋          | 2.0MB 2.8MB/s eta 0:00:01\r\u001b[K     |█████████████████████▊          | 2.0MB 2.8MB/s eta 0:00:01\r\u001b[K     |█████████████████████▉          | 2.0MB 2.8MB/s eta 0:00:01\r\u001b[K     |██████████████████████          | 2.0MB 2.8MB/s eta 0:00:01\r\u001b[K     |██████████████████████          | 2.0MB 2.8MB/s eta 0:00:01\r\u001b[K     |██████████████████████▏         | 2.0MB 2.8MB/s eta 0:00:01\r\u001b[K     |██████████████████████▎         | 2.0MB 2.8MB/s eta 0:00:01\r\u001b[K     |██████████████████████▍         | 2.1MB 2.8MB/s eta 0:00:01\r\u001b[K     |██████████████████████▌         | 2.1MB 2.8MB/s eta 0:00:01\r\u001b[K     |██████████████████████▋         | 2.1MB 2.8MB/s eta 0:00:01\r\u001b[K     |██████████████████████▊         | 2.1MB 2.8MB/s eta 0:00:01\r\u001b[K     |██████████████████████▉         | 2.1MB 2.8MB/s eta 0:00:01\r\u001b[K     |███████████████████████         | 2.1MB 2.8MB/s eta 0:00:01\r\u001b[K     |███████████████████████         | 2.1MB 2.8MB/s eta 0:00:01\r\u001b[K     |███████████████████████▏        | 2.1MB 2.8MB/s eta 0:00:01\r\u001b[K     |███████████████████████▎        | 2.1MB 2.8MB/s eta 0:00:01\r\u001b[K     |███████████████████████▍        | 2.2MB 2.8MB/s eta 0:00:01\r\u001b[K     |███████████████████████▌        | 2.2MB 2.8MB/s eta 0:00:01\r\u001b[K     |███████████████████████▋        | 2.2MB 2.8MB/s eta 0:00:01\r\u001b[K     |███████████████████████▊        | 2.2MB 2.8MB/s eta 0:00:01\r\u001b[K     |███████████████████████▉        | 2.2MB 2.8MB/s eta 0:00:01\r\u001b[K     |████████████████████████        | 2.2MB 2.8MB/s eta 0:00:01\r\u001b[K     |████████████████████████        | 2.2MB 2.8MB/s eta 0:00:01\r\u001b[K     |████████████████████████▏       | 2.2MB 2.8MB/s eta 0:00:01\r\u001b[K     |████████████████████████▎       | 2.2MB 2.8MB/s eta 0:00:01\r\u001b[K     |████████████████████████▍       | 2.2MB 2.8MB/s eta 0:00:01\r\u001b[K     |████████████████████████▌       | 2.3MB 2.8MB/s eta 0:00:01\r\u001b[K     |████████████████████████▋       | 2.3MB 2.8MB/s eta 0:00:01\r\u001b[K     |████████████████████████▊       | 2.3MB 2.8MB/s eta 0:00:01\r\u001b[K     |████████████████████████▉       | 2.3MB 2.8MB/s eta 0:00:01\r\u001b[K     |█████████████████████████       | 2.3MB 2.8MB/s eta 0:00:01\r\u001b[K     |█████████████████████████       | 2.3MB 2.8MB/s eta 0:00:01\r\u001b[K     |█████████████████████████▏      | 2.3MB 2.8MB/s eta 0:00:01\r\u001b[K     |█████████████████████████▎      | 2.3MB 2.8MB/s eta 0:00:01\r\u001b[K     |█████████████████████████▍      | 2.3MB 2.8MB/s eta 0:00:01\r\u001b[K     |█████████████████████████▌      | 2.3MB 2.8MB/s eta 0:00:01\r\u001b[K     |█████████████████████████▋      | 2.4MB 2.8MB/s eta 0:00:01\r\u001b[K     |█████████████████████████▊      | 2.4MB 2.8MB/s eta 0:00:01\r\u001b[K     |█████████████████████████▉      | 2.4MB 2.8MB/s eta 0:00:01\r\u001b[K     |██████████████████████████      | 2.4MB 2.8MB/s eta 0:00:01\r\u001b[K     |██████████████████████████      | 2.4MB 2.8MB/s eta 0:00:01\r\u001b[K     |██████████████████████████▏     | 2.4MB 2.8MB/s eta 0:00:01\r\u001b[K     |██████████████████████████▎     | 2.4MB 2.8MB/s eta 0:00:01\r\u001b[K     |██████████████████████████▍     | 2.4MB 2.8MB/s eta 0:00:01\r\u001b[K     |██████████████████████████▌     | 2.4MB 2.8MB/s eta 0:00:01\r\u001b[K     |██████████████████████████▋     | 2.4MB 2.8MB/s eta 0:00:01\r\u001b[K     |██████████████████████████▊     | 2.5MB 2.8MB/s eta 0:00:01\r\u001b[K     |██████████████████████████▉     | 2.5MB 2.8MB/s eta 0:00:01\r\u001b[K     |███████████████████████████     | 2.5MB 2.8MB/s eta 0:00:01\r\u001b[K     |███████████████████████████     | 2.5MB 2.8MB/s eta 0:00:01\r\u001b[K     |███████████████████████████▏    | 2.5MB 2.8MB/s eta 0:00:01\r\u001b[K     |███████████████████████████▎    | 2.5MB 2.8MB/s eta 0:00:01\r\u001b[K     |███████████████████████████▍    | 2.5MB 2.8MB/s eta 0:00:01\r\u001b[K     |███████████████████████████▌    | 2.5MB 2.8MB/s eta 0:00:01\r\u001b[K     |███████████████████████████▋    | 2.5MB 2.8MB/s eta 0:00:01\r\u001b[K     |███████████████████████████▊    | 2.5MB 2.8MB/s eta 0:00:01\r\u001b[K     |███████████████████████████▉    | 2.6MB 2.8MB/s eta 0:00:01\r\u001b[K     |████████████████████████████    | 2.6MB 2.8MB/s eta 0:00:01\r\u001b[K     |████████████████████████████    | 2.6MB 2.8MB/s eta 0:00:01\r\u001b[K     |████████████████████████████▏   | 2.6MB 2.8MB/s eta 0:00:01\r\u001b[K     |████████████████████████████▎   | 2.6MB 2.8MB/s eta 0:00:01\r\u001b[K     |████████████████████████████▍   | 2.6MB 2.8MB/s eta 0:00:01\r\u001b[K     |████████████████████████████▌   | 2.6MB 2.8MB/s eta 0:00:01\r\u001b[K     |████████████████████████████▋   | 2.6MB 2.8MB/s eta 0:00:01\r\u001b[K     |████████████████████████████▊   | 2.6MB 2.8MB/s eta 0:00:01\r\u001b[K     |████████████████████████████▉   | 2.7MB 2.8MB/s eta 0:00:01\r\u001b[K     |█████████████████████████████   | 2.7MB 2.8MB/s eta 0:00:01\r\u001b[K     |█████████████████████████████   | 2.7MB 2.8MB/s eta 0:00:01\r\u001b[K     |█████████████████████████████▏  | 2.7MB 2.8MB/s eta 0:00:01\r\u001b[K     |█████████████████████████████▎  | 2.7MB 2.8MB/s eta 0:00:01\r\u001b[K     |█████████████████████████████▍  | 2.7MB 2.8MB/s eta 0:00:01\r\u001b[K     |█████████████████████████████▌  | 2.7MB 2.8MB/s eta 0:00:01\r\u001b[K     |█████████████████████████████▋  | 2.7MB 2.8MB/s eta 0:00:01\r\u001b[K     |█████████████████████████████▊  | 2.7MB 2.8MB/s eta 0:00:01\r\u001b[K     |█████████████████████████████▉  | 2.7MB 2.8MB/s eta 0:00:01\r\u001b[K     |██████████████████████████████  | 2.8MB 2.8MB/s eta 0:00:01\r\u001b[K     |██████████████████████████████  | 2.8MB 2.8MB/s eta 0:00:01\r\u001b[K     |██████████████████████████████▏ | 2.8MB 2.8MB/s eta 0:00:01\r\u001b[K     |██████████████████████████████▍ | 2.8MB 2.8MB/s eta 0:00:01\r\u001b[K     |██████████████████████████████▌ | 2.8MB 2.8MB/s eta 0:00:01\r\u001b[K     |██████████████████████████████▋ | 2.8MB 2.8MB/s eta 0:00:01\r\u001b[K     |██████████████████████████████▊ | 2.8MB 2.8MB/s eta 0:00:01\r\u001b[K     |██████████████████████████████▉ | 2.8MB 2.8MB/s eta 0:00:01\r\u001b[K     |███████████████████████████████ | 2.8MB 2.8MB/s eta 0:00:01\r\u001b[K     |███████████████████████████████ | 2.8MB 2.8MB/s eta 0:00:01\r\u001b[K     |███████████████████████████████▏| 2.9MB 2.8MB/s eta 0:00:01\r\u001b[K     |███████████████████████████████▎| 2.9MB 2.8MB/s eta 0:00:01\r\u001b[K     |███████████████████████████████▍| 2.9MB 2.8MB/s eta 0:00:01\r\u001b[K     |███████████████████████████████▌| 2.9MB 2.8MB/s eta 0:00:01\r\u001b[K     |███████████████████████████████▋| 2.9MB 2.8MB/s eta 0:00:01\r\u001b[K     |███████████████████████████████▊| 2.9MB 2.8MB/s eta 0:00:01\r\u001b[K     |███████████████████████████████▉| 2.9MB 2.8MB/s eta 0:00:01\r\u001b[K     |████████████████████████████████| 2.9MB 2.8MB/s eta 0:00:01\r\u001b[K     |████████████████████████████████| 2.9MB 2.8MB/s \n",
            "\u001b[?25hInstalling collected packages: psycopg2-binary\n",
            "Successfully installed psycopg2-binary-2.8.5\n"
          ],
          "name": "stdout"
        }
      ]
    },
    {
      "cell_type": "code",
      "metadata": {
        "id": "6TOZWN9Svr_Y",
        "colab_type": "code",
        "colab": {}
      },
      "source": [
        "import psycopg2"
      ],
      "execution_count": 0,
      "outputs": []
    },
    {
      "cell_type": "code",
      "metadata": {
        "id": "5qgP1MEntEqk",
        "colab_type": "code",
        "colab": {}
      },
      "source": [
        "import spotipy\n",
        "from pprint import pprint\n",
        "import pandas as pd\n",
        "import sys\n",
        "import pprint"
      ],
      "execution_count": 0,
      "outputs": []
    },
    {
      "cell_type": "code",
      "metadata": {
        "id": "ZLV8Tv_3tEqq",
        "colab_type": "code",
        "colab": {}
      },
      "source": [
        "from spotipy.oauth2 import SpotifyClientCredentials"
      ],
      "execution_count": 0,
      "outputs": []
    },
    {
      "cell_type": "code",
      "metadata": {
        "id": "g6FR-jWDtEqu",
        "colab_type": "code",
        "colab": {}
      },
      "source": [
        "cid = '41467bca65514079952e212808b80b3e'\n",
        "secret = '97133de652814ffebb4d5eae856a315e'\n",
        "client_credentials_manager = SpotifyClientCredentials(client_id=cid, client_secret=secret)\n",
        "sp = spotipy.Spotify(client_credentials_manager=client_credentials_manager)"
      ],
      "execution_count": 0,
      "outputs": []
    },
    {
      "cell_type": "code",
      "metadata": {
        "id": "oBrcVn46BsKm",
        "colab_type": "code",
        "colab": {}
      },
      "source": [
        "track_ids = ['4GT3fRkjpQO8uXEWe0A4oB', '25CbtOzU8Pn17SAaXFjIR3', '5Qz24iSE8LHJE59th8ZLXV', '3idfggIyrM5K3YronEy8mn', '1icudzJCEUyjOVYzw7emST', '0EANX0OVKSCcmarY50Xa4p']"
      ],
      "execution_count": 0,
      "outputs": []
    },
    {
      "cell_type": "code",
      "metadata": {
        "id": "KokPCvJ_CK--",
        "colab_type": "code",
        "outputId": "5128301d-e768-4185-ab2c-6b6dcc32c896",
        "colab": {
          "base_uri": "https://localhost:8080/",
          "height": 33
        }
      },
      "source": [
        "type(track_ids)"
      ],
      "execution_count": 0,
      "outputs": [
        {
          "output_type": "execute_result",
          "data": {
            "text/plain": [
              "list"
            ]
          },
          "metadata": {
            "tags": []
          },
          "execution_count": 39
        }
      ]
    },
    {
      "cell_type": "code",
      "metadata": {
        "id": "F23ITMM5Dd4c",
        "colab_type": "code",
        "colab": {}
      },
      "source": [
        "    track_id = result['tracks']['items'][0]['id']\n",
        "        track_name = result['tracks']['items'][0]['name']\n",
        "        track_name_json = jsonify(track_name)\n",
        "        artist_name = result['tracks']['items'][0]['artists'][0]['name']\n",
        "        album_name = result['tracks']['items'][0]['album']['name']\n",
        "        album_id = result['tracks']['items'][0]['album']['id']\n",
        "        album_cover_link = result['tracks']['items'][0]['album']['images'][0]['url']\n",
        "        song_sample = result['tracks']['items'][0]['preview_url']"
      ],
      "execution_count": 0,
      "outputs": []
    },
    {
      "cell_type": "code",
      "metadata": {
        "id": "VfCK-k1Yvj0M",
        "colab_type": "code",
        "colab": {}
      },
      "source": [
        "@app.route(\"/search_something/<artist_name>/<track_name>\")\n",
        "    def get_stuff(artist_name, track_name):\n",
        "        result = sp.search(q=f'artist:{artist_name} track:{track_name}')\n",
        "        track_id = result['tracks']['items'][0]['id']\n",
        "        track_name = result['tracks']['items'][0]['name']\n",
        "        artist_name = result['tracks']['items'][0]['artists'][0]['name']\n",
        "        album_name = result['tracks']['items'][0]['album']['name']\n",
        "        album_id = result['tracks']['items'][0]['album']['id']\n",
        "        album_cover_link = result['tracks']['items'][0]['album']['images'][0]['url']\n",
        "        song_sample = result['tracks']['items'][0]['preview_url']\n",
        "        audio_features = sp.audio_features(track_id)\n",
        "        audio_features = audio_features[0]\n",
        "        keys_to_remove = [\"uri\", \"analysis_url\", \"id\", \"type\", \"track_href\"]\n",
        "        for key in keys_to_remove:\n",
        "          del audio_features[key]\n",
        "        audio_features = jsonify(audio_features)\n",
        "        return render_template(\"button.html\", result=result, track_id=track_id, track_name=track_name, artist_name=artist_name, album_name=album_name, album_id=album_id, album_cover_link=album_cover_link, song_sample=song_sample, audio_features=audio_features)  "
      ],
      "execution_count": 0,
      "outputs": []
    },
    {
      "cell_type": "code",
      "metadata": {
        "id": "9bjj-8iVx4o-",
        "colab_type": "code",
        "colab": {}
      },
      "source": [
        "model_result_query = sp.tracks(track_ids)\n"
      ],
      "execution_count": 0,
      "outputs": []
    },
    {
      "cell_type": "code",
      "metadata": {
        "id": "L20Xk_GqW1_Y",
        "colab_type": "code",
        "colab": {}
      },
      "source": [
        "new_result = sp.search(q)"
      ],
      "execution_count": 0,
      "outputs": []
    },
    {
      "cell_type": "code",
      "metadata": {
        "id": "1m6WhM6kSa_J",
        "colab_type": "code",
        "outputId": "da3a5766-2db6-4f12-9e84-2c6889b48d6a",
        "colab": {
          "base_uri": "https://localhost:8080/",
          "height": 34
        }
      },
      "source": [
        "model_result_query['tracks'][1]['preview_url']"
      ],
      "execution_count": 0,
      "outputs": [
        {
          "output_type": "execute_result",
          "data": {
            "text/plain": [
              "'https://p.scdn.co/mp3-preview/b44e8f96a219871587d0559970ca5dce71c891f2?cid=41467bca65514079952e212808b80b3e'"
            ]
          },
          "metadata": {
            "tags": []
          },
          "execution_count": 63
        }
      ]
    },
    {
      "cell_type": "code",
      "metadata": {
        "id": "gF7ONT3kBysT",
        "colab_type": "code",
        "colab": {}
      },
      "source": [
        "track_name_1 = model_result_query['tracks'][0]['name']\n",
        "track_name_2 = model_result_query['tracks'][1]['name']\n",
        "track_name_3 = model_result_query['tracks'][2]['name']\n",
        "track_name_4 = model_result_query['tracks'][3]['name']\n",
        "track_name_5 = model_result_query['tracks'][4]['name']\n",
        "track_name_6 = model_result_query['tracks'][5]['name']track_name_6 = model_result_query['tracks'][5]['name']"
      ],
      "execution_count": 0,
      "outputs": []
    },
    {
      "cell_type": "code",
      "metadata": {
        "id": "oMU2Nq9GQ4Ky",
        "colab_type": "code",
        "colab": {}
      },
      "source": [
        "track_name_6 = model_result_query['tracks'][5]['name']"
      ],
      "execution_count": 0,
      "outputs": []
    },
    {
      "cell_type": "code",
      "metadata": {
        "id": "W4rHeX8ZQ6hG",
        "colab_type": "code",
        "outputId": "1a4aabe3-83dd-492c-fcb5-c6070a2dfba8",
        "colab": {
          "base_uri": "https://localhost:8080/",
          "height": 34
        }
      },
      "source": [
        "print (track_name_5)"
      ],
      "execution_count": 0,
      "outputs": [
        {
          "output_type": "stream",
          "text": [
            "Hush\n"
          ],
          "name": "stdout"
        }
      ]
    },
    {
      "cell_type": "code",
      "metadata": {
        "id": "MdiIlryvXiZS",
        "colab_type": "code",
        "colab": {}
      },
      "source": [
        "artist_name = \"Phil Collins\"\n",
        "track_name = \"In the Air Tonight\""
      ],
      "execution_count": 0,
      "outputs": []
    },
    {
      "cell_type": "code",
      "metadata": {
        "id": "ibNkQv8ftG5d",
        "colab_type": "code",
        "outputId": "57fc1fcd-26df-4d26-9334-0f5d57932bbb",
        "colab": {
          "base_uri": "https://localhost:8080/",
          "height": 34
        }
      },
      "source": [
        " artist_name = \"Phil Collins\"\n",
        "track_name = \"In the Air Tonight\"\n",
        " \n",
        " result = sp.search(q=f'artist:{artist_name} track:{track_name}')\n",
        "\n",
        " result['tracks']['items'][0]['popularity']"
      ],
      "execution_count": 0,
      "outputs": [
        {
          "output_type": "execute_result",
          "data": {
            "text/plain": [
              "78"
            ]
          },
          "metadata": {
            "tags": []
          },
          "execution_count": 123
        }
      ]
    },
    {
      "cell_type": "code",
      "metadata": {
        "id": "hS3V4PO8XRzv",
        "colab_type": "code",
        "outputId": "c9bdbc1e-3496-4891-89dd-681254edb539",
        "colab": {
          "base_uri": "https://localhost:8080/",
          "height": 34
        }
      },
      "source": [
        "result['tracks']['items'][0]['popularity']"
      ],
      "execution_count": 0,
      "outputs": [
        {
          "output_type": "execute_result",
          "data": {
            "text/plain": [
              "dict_keys(['album', 'artists', 'available_markets', 'disc_number', 'duration_ms', 'explicit', 'external_ids', 'external_urls', 'href', 'id', 'is_local', 'name', 'popularity', 'preview_url', 'track_number', 'type', 'uri'])"
            ]
          },
          "metadata": {
            "tags": []
          },
          "execution_count": 122
        }
      ]
    },
    {
      "cell_type": "code",
      "metadata": {
        "id": "Wzkxm6UG_B1j",
        "colab_type": "code",
        "outputId": "96b52bbc-8eb2-4f87-f142-f1780bbf24aa",
        "colab": {
          "base_uri": "https://localhost:8080/",
          "height": 34
        }
      },
      "source": [
        "result['tracks']['items'][0]['popularity']"
      ],
      "execution_count": 0,
      "outputs": [
        {
          "output_type": "execute_result",
          "data": {
            "text/plain": [
              "56"
            ]
          },
          "metadata": {
            "tags": []
          },
          "execution_count": 116
        }
      ]
    },
    {
      "cell_type": "code",
      "metadata": {
        "id": "HO6Txhv5rep7",
        "colab_type": "code",
        "colab": {}
      },
      "source": [
        "    def get_stuff(artist_name, track_name):\n",
        "        result = sp.search(q=f'artist:{artist_name} track:{track_name}')\n",
        "        track_id = result['tracks']['items'][0]['id']\n",
        "        track_name = result['tracks']['items'][0]['name']\n",
        "        artist_name = result['tracks']['items'][0]['artists'][0]['name']\n",
        "        album_name = result['tracks']['items'][0]['album']['name']\n",
        "        album_id = result['tracks']['items'][0]['album']['id']\n",
        "        album_cover_link = result['tracks']['items'][0]['album']['images'][0]['url']\n",
        "        song_sample = result['tracks']['items'][0]['preview_url']\n",
        "        audio_features = sp.audio_features(track_id)\n",
        "        audio_features = audio_features[0]\n",
        "        keys_to_remove = [\"uri\", \"analysis_url\", \"id\", \"type\", \"track_href\"]\n",
        "        for key in keys_to_remove:\n",
        "          del audio_features[key]\n",
        "        return track_id, track_name, artist_name, album_name, album_id, album_cover_link, song_sample, audio_features"
      ],
      "execution_count": 0,
      "outputs": []
    },
    {
      "cell_type": "code",
      "metadata": {
        "id": "eyQvY4voqhfP",
        "colab_type": "code",
        "outputId": "1a8c0148-b6d7-41e9-bc5e-ade9478499bc",
        "colab": {
          "base_uri": "https://localhost:8080/",
          "height": 530
        }
      },
      "source": [
        "pip install spotify"
      ],
      "execution_count": 0,
      "outputs": [
        {
          "output_type": "stream",
          "text": [
            "Collecting spotify\n",
            "\u001b[?25l  Downloading https://files.pythonhosted.org/packages/c6/a0/384d44f58c4cfc64b91337d8573cf89b6be0ac71fc08db4d09852ea85d4d/spotify-0.10.2-py3-none-any.whl (46kB)\n",
            "\r\u001b[K     |███████                         | 10kB 17.8MB/s eta 0:00:01\r\u001b[K     |██████████████▏                 | 20kB 1.7MB/s eta 0:00:01\r\u001b[K     |█████████████████████▏          | 30kB 2.5MB/s eta 0:00:01\r\u001b[K     |████████████████████████████▎   | 40kB 3.3MB/s eta 0:00:01\r\u001b[K     |████████████████████████████████| 51kB 1.7MB/s \n",
            "\u001b[?25hCollecting backoff<2.0.0,>=1.10.0\n",
            "  Downloading https://files.pythonhosted.org/packages/f0/32/c5dd4f4b0746e9ec05ace2a5045c1fc375ae67ee94355344ad6c7005fd87/backoff-1.10.0-py2.py3-none-any.whl\n",
            "Collecting aiohttp<4.0,>=3.6\n",
            "\u001b[?25l  Downloading https://files.pythonhosted.org/packages/7c/39/7eb5f98d24904e0f6d3edb505d4aa60e3ef83c0a58d6fe18244a51757247/aiohttp-3.6.2-cp36-cp36m-manylinux1_x86_64.whl (1.2MB)\n",
            "\u001b[K     |████████████████████████████████| 1.2MB 8.6MB/s \n",
            "\u001b[?25hCollecting yarl<2.0,>=1.0\n",
            "\u001b[?25l  Downloading https://files.pythonhosted.org/packages/95/8f/0209fc5d975f839344c33c822ff2f7ef80f6b1e984673a5a68f960bfa583/yarl-1.4.2-cp36-cp36m-manylinux1_x86_64.whl (252kB)\n",
            "\u001b[K     |████████████████████████████████| 256kB 51.4MB/s \n",
            "\u001b[?25hCollecting multidict<5.0,>=4.5\n",
            "\u001b[?25l  Downloading https://files.pythonhosted.org/packages/30/2e/3ab2f1fb72571f75013db323a3799d505d99f3bc203513604f1ffb9b7858/multidict-4.7.5-cp36-cp36m-manylinux1_x86_64.whl (148kB)\n",
            "\u001b[K     |████████████████████████████████| 153kB 50.8MB/s \n",
            "\u001b[?25hRequirement already satisfied: chardet<4.0,>=2.0 in /usr/local/lib/python3.6/dist-packages (from aiohttp<4.0,>=3.6->spotify) (3.0.4)\n",
            "Requirement already satisfied: attrs>=17.3.0 in /usr/local/lib/python3.6/dist-packages (from aiohttp<4.0,>=3.6->spotify) (19.3.0)\n",
            "Collecting async-timeout<4.0,>=3.0\n",
            "  Downloading https://files.pythonhosted.org/packages/e1/1e/5a4441be21b0726c4464f3f23c8b19628372f606755a9d2e46c187e65ec4/async_timeout-3.0.1-py3-none-any.whl\n",
            "Requirement already satisfied: typing-extensions>=3.6.5; python_version < \"3.7\" in /usr/local/lib/python3.6/dist-packages (from aiohttp<4.0,>=3.6->spotify) (3.6.6)\n",
            "Collecting idna-ssl>=1.0; python_version < \"3.7\"\n",
            "  Downloading https://files.pythonhosted.org/packages/46/03/07c4894aae38b0de52b52586b24bf189bb83e4ddabfe2e2c8f2419eec6f4/idna-ssl-1.1.0.tar.gz\n",
            "Requirement already satisfied: idna>=2.0 in /usr/local/lib/python3.6/dist-packages (from yarl<2.0,>=1.0->aiohttp<4.0,>=3.6->spotify) (2.8)\n",
            "Building wheels for collected packages: idna-ssl\n",
            "  Building wheel for idna-ssl (setup.py) ... \u001b[?25l\u001b[?25hdone\n",
            "  Created wheel for idna-ssl: filename=idna_ssl-1.1.0-cp36-none-any.whl size=3162 sha256=59b998bfe4c1faad4a1347347ef5b621c726899b6e192eb17705a2495a99862b\n",
            "  Stored in directory: /root/.cache/pip/wheels/d3/00/b3/32d613e19e08a739751dd6bf998cfed277728f8b2127ad4eb7\n",
            "Successfully built idna-ssl\n",
            "Installing collected packages: backoff, multidict, yarl, async-timeout, idna-ssl, aiohttp, spotify\n",
            "Successfully installed aiohttp-3.6.2 async-timeout-3.0.1 backoff-1.10.0 idna-ssl-1.1.0 multidict-4.7.5 spotify-0.10.2 yarl-1.4.2\n"
          ],
          "name": "stdout"
        }
      ]
    },
    {
      "cell_type": "code",
      "metadata": {
        "id": "-Zet2_koqfem",
        "colab_type": "code",
        "outputId": "8dead5f5-7dfa-46a4-9924-df32cb23019f",
        "colab": {
          "base_uri": "https://localhost:8080/",
          "height": 119
        }
      },
      "source": [
        "name = \"{Thriller}\" #chosen artist\n",
        "result = sp.search(name) #search query\n",
        "result['tracks']['items'][0]['artists']"
      ],
      "execution_count": 0,
      "outputs": [
        {
          "output_type": "execute_result",
          "data": {
            "text/plain": [
              "[{'external_urls': {'spotify': 'https://open.spotify.com/artist/3fMbdgg4jU18AjLCKBhRSm'},\n",
              "  'href': 'https://api.spotify.com/v1/artists/3fMbdgg4jU18AjLCKBhRSm',\n",
              "  'id': '3fMbdgg4jU18AjLCKBhRSm',\n",
              "  'name': 'Michael Jackson',\n",
              "  'type': 'artist',\n",
              "  'uri': 'spotify:artist:3fMbdgg4jU18AjLCKBhRSm'}]"
            ]
          },
          "metadata": {
            "tags": []
          },
          "execution_count": 31
        }
      ]
    },
    {
      "cell_type": "code",
      "metadata": {
        "id": "ZwwH3cyOWe6W",
        "colab_type": "code",
        "colab": {}
      },
      "source": [
        "track_id = '0Li1OuXXfi7950ilZUFGkF'\n",
        "\n",
        "audio_features = sp.audio_features(track_id)"
      ],
      "execution_count": 0,
      "outputs": []
    },
    {
      "cell_type": "code",
      "metadata": {
        "id": "xz1pLJsB5Ic0",
        "colab_type": "code",
        "colab": {}
      },
      "source": [
        "import pandas as pd"
      ],
      "execution_count": 0,
      "outputs": []
    },
    {
      "cell_type": "code",
      "metadata": {
        "id": "B1Crj8Qh490S",
        "colab_type": "code",
        "colab": {}
      },
      "source": [
        "# audio_features originally is a nested list \n",
        "# this converts it into a single dict\n",
        "\n",
        "audio_features = audio_features[0]"
      ],
      "execution_count": 0,
      "outputs": []
    },
    {
      "cell_type": "code",
      "metadata": {
        "id": "3JMX86Pj5YcQ",
        "colab_type": "code",
        "colab": {}
      },
      "source": [
        "audio_features_df = pd.DataFrame(audio_features, index=[0])"
      ],
      "execution_count": 0,
      "outputs": []
    },
    {
      "cell_type": "code",
      "metadata": {
        "id": "Sbz7nz2g5196",
        "colab_type": "code",
        "outputId": "c64a1e8f-9a09-4106-b7f4-7337308c953d",
        "colab": {
          "base_uri": "https://localhost:8080/",
          "height": 76
        }
      },
      "source": [
        "audio_features_df"
      ],
      "execution_count": 0,
      "outputs": [
        {
          "output_type": "execute_result",
          "data": {
            "text/html": [
              "<div>\n",
              "<style scoped>\n",
              "    .dataframe tbody tr th:only-of-type {\n",
              "        vertical-align: middle;\n",
              "    }\n",
              "\n",
              "    .dataframe tbody tr th {\n",
              "        vertical-align: top;\n",
              "    }\n",
              "\n",
              "    .dataframe thead th {\n",
              "        text-align: right;\n",
              "    }\n",
              "</style>\n",
              "<table border=\"1\" class=\"dataframe\">\n",
              "  <thead>\n",
              "    <tr style=\"text-align: right;\">\n",
              "      <th></th>\n",
              "      <th>danceability</th>\n",
              "      <th>energy</th>\n",
              "      <th>key</th>\n",
              "      <th>loudness</th>\n",
              "      <th>mode</th>\n",
              "      <th>speechiness</th>\n",
              "      <th>acousticness</th>\n",
              "      <th>instrumentalness</th>\n",
              "      <th>liveness</th>\n",
              "      <th>valence</th>\n",
              "      <th>tempo</th>\n",
              "      <th>type</th>\n",
              "      <th>id</th>\n",
              "      <th>uri</th>\n",
              "      <th>track_href</th>\n",
              "      <th>analysis_url</th>\n",
              "      <th>duration_ms</th>\n",
              "      <th>time_signature</th>\n",
              "    </tr>\n",
              "  </thead>\n",
              "  <tbody>\n",
              "    <tr>\n",
              "      <th>0</th>\n",
              "      <td>0.748</td>\n",
              "      <td>0.497</td>\n",
              "      <td>4</td>\n",
              "      <td>-6.542</td>\n",
              "      <td>0</td>\n",
              "      <td>0.0401</td>\n",
              "      <td>0.249</td>\n",
              "      <td>0</td>\n",
              "      <td>0.138</td>\n",
              "      <td>0.0664</td>\n",
              "      <td>142.04</td>\n",
              "      <td>audio_features</td>\n",
              "      <td>0Li1OuXXfi7950ilZUFGkF</td>\n",
              "      <td>spotify:track:0Li1OuXXfi7950ilZUFGkF</td>\n",
              "      <td>https://api.spotify.com/v1/tracks/0Li1OuXXfi79...</td>\n",
              "      <td>https://api.spotify.com/v1/audio-analysis/0Li1...</td>\n",
              "      <td>158709</td>\n",
              "      <td>4</td>\n",
              "    </tr>\n",
              "  </tbody>\n",
              "</table>\n",
              "</div>"
            ],
            "text/plain": [
              "   danceability  energy  ...  duration_ms  time_signature\n",
              "0         0.748   0.497  ...       158709               4\n",
              "\n",
              "[1 rows x 18 columns]"
            ]
          },
          "metadata": {
            "tags": []
          },
          "execution_count": 28
        }
      ]
    },
    {
      "cell_type": "code",
      "metadata": {
        "id": "DHVBg9gRf-rv",
        "colab_type": "code",
        "colab": {}
      },
      "source": [
        "entries1 = ('type', 'uri', 'track_href', 'analysis_url')\n",
        "the_dict = audio_features\n",
        "def entries_to_remove(entries, the_dict):\n",
        "    for key in entries:\n",
        "        if key in the_dict:\n",
        "            del the_dict[key]"
      ],
      "execution_count": 0,
      "outputs": []
    },
    {
      "cell_type": "code",
      "metadata": {
        "id": "B8OqMRONgiHt",
        "colab_type": "code",
        "colab": {}
      },
      "source": [
        "audio_features"
      ],
      "execution_count": 0,
      "outputs": []
    },
    {
      "cell_type": "code",
      "metadata": {
        "id": "rNZa0VJxeT2W",
        "colab_type": "code",
        "colab": {}
      },
      "source": [
        "sp.audio_analysis(track_id)['track']"
      ],
      "execution_count": 0,
      "outputs": []
    },
    {
      "cell_type": "code",
      "metadata": {
        "id": "YHGML4tr3cD2",
        "colab_type": "code",
        "colab": {}
      },
      "source": [
        "track_id = result['tracks']['items'][0]['id']"
      ],
      "execution_count": 0,
      "outputs": []
    },
    {
      "cell_type": "code",
      "metadata": {
        "id": "vj2gC9v5livg",
        "colab_type": "code",
        "outputId": "a392a30e-14b5-40f7-f7d4-c20aae25b314",
        "colab": {
          "base_uri": "https://localhost:8080/",
          "height": 54
        }
      },
      "source": [
        "audio_features = sp.audio_features(track_id)\n",
        "audio_features = audio_features[0]\n",
        "keys_to_remove = [\"uri\", \"analysis_url\", \"id\", \"type\", \"track_href\"]\n",
        "for key in keys_to_remove:\n",
        "  del audio_features[key]\n",
        "\n",
        "print(audio_features)"
      ],
      "execution_count": 0,
      "outputs": [
        {
          "output_type": "stream",
          "text": [
            "{'danceability': 0.764, 'energy': 0.887, 'key': 11, 'loudness': -3.725, 'mode': 1, 'speechiness': 0.0738, 'acousticness': 0.0816, 'instrumentalness': 0.000108, 'liveness': 0.847, 'valence': 0.721, 'tempo': 118.421, 'duration_ms': 358053, 'time_signature': 4}\n"
          ],
          "name": "stdout"
        }
      ]
    },
    {
      "cell_type": "code",
      "metadata": {
        "id": "8twcpeDPolAU",
        "colab_type": "code",
        "outputId": "4fa546b7-45db-4794-f420-c05f2502d6f7",
        "colab": {
          "base_uri": "https://localhost:8080/",
          "height": 238
        }
      },
      "source": [
        "audio_features"
      ],
      "execution_count": 0,
      "outputs": [
        {
          "output_type": "execute_result",
          "data": {
            "text/plain": [
              "{'acousticness': 0.0816,\n",
              " 'danceability': 0.764,\n",
              " 'duration_ms': 358053,\n",
              " 'energy': 0.887,\n",
              " 'instrumentalness': 0.000108,\n",
              " 'key': 11,\n",
              " 'liveness': 0.847,\n",
              " 'loudness': -3.725,\n",
              " 'mode': 1,\n",
              " 'speechiness': 0.0738,\n",
              " 'tempo': 118.421,\n",
              " 'time_signature': 4,\n",
              " 'valence': 0.721}"
            ]
          },
          "metadata": {
            "tags": []
          },
          "execution_count": 144
        }
      ]
    },
    {
      "cell_type": "code",
      "metadata": {
        "id": "Bdb1lY9nn-DN",
        "colab_type": "code",
        "outputId": "17fbefb9-d634-4dc6-e636-776694a5ec8e",
        "colab": {
          "base_uri": "https://localhost:8080/",
          "height": 232
        }
      },
      "source": [
        "\n",
        "\n",
        "keys_to_remove = [\"uri\", \"analysis_url\", \"id\", \"type\", \"track_href\"]\n",
        "for key in keys_to_remove:\n",
        "  del audio_features[key]\n",
        "\n",
        "print(audio_features)"
      ],
      "execution_count": 0,
      "outputs": [
        {
          "output_type": "error",
          "ename": "KeyError",
          "evalue": "ignored",
          "traceback": [
            "\u001b[0;31m---------------------------------------------------------------------------\u001b[0m",
            "\u001b[0;31mKeyError\u001b[0m                                  Traceback (most recent call last)",
            "\u001b[0;32m<ipython-input-141-523d81b0d767>\u001b[0m in \u001b[0;36m<module>\u001b[0;34m()\u001b[0m\n\u001b[1;32m      3\u001b[0m \u001b[0mkeys_to_remove\u001b[0m \u001b[0;34m=\u001b[0m \u001b[0;34m[\u001b[0m\u001b[0;34m\"uri\"\u001b[0m\u001b[0;34m,\u001b[0m \u001b[0;34m\"analysis_url\"\u001b[0m\u001b[0;34m,\u001b[0m \u001b[0;34m\"id\"\u001b[0m\u001b[0;34m,\u001b[0m \u001b[0;34m\"type\"\u001b[0m\u001b[0;34m,\u001b[0m \u001b[0;34m\"track_href\"\u001b[0m\u001b[0;34m]\u001b[0m\u001b[0;34m\u001b[0m\u001b[0;34m\u001b[0m\u001b[0m\n\u001b[1;32m      4\u001b[0m \u001b[0;32mfor\u001b[0m \u001b[0mkey\u001b[0m \u001b[0;32min\u001b[0m \u001b[0mkeys_to_remove\u001b[0m\u001b[0;34m:\u001b[0m\u001b[0;34m\u001b[0m\u001b[0;34m\u001b[0m\u001b[0m\n\u001b[0;32m----> 5\u001b[0;31m   \u001b[0;32mdel\u001b[0m \u001b[0maudio_features\u001b[0m\u001b[0;34m[\u001b[0m\u001b[0mkey\u001b[0m\u001b[0;34m]\u001b[0m\u001b[0;34m\u001b[0m\u001b[0;34m\u001b[0m\u001b[0m\n\u001b[0m\u001b[1;32m      6\u001b[0m \u001b[0;34m\u001b[0m\u001b[0m\n\u001b[1;32m      7\u001b[0m \u001b[0mprint\u001b[0m\u001b[0;34m(\u001b[0m\u001b[0maudio_features\u001b[0m\u001b[0;34m)\u001b[0m\u001b[0;34m\u001b[0m\u001b[0;34m\u001b[0m\u001b[0m\n",
            "\u001b[0;31mKeyError\u001b[0m: 'uri'"
          ]
        }
      ]
    },
    {
      "cell_type": "code",
      "metadata": {
        "id": "WiJSmJUpndFk",
        "colab_type": "code",
        "colab": {}
      },
      "source": [
        "stuff = 'track_href', 'analysis_url'"
      ],
      "execution_count": 0,
      "outputs": []
    },
    {
      "cell_type": "code",
      "metadata": {
        "id": "5Po9jAsUmL7f",
        "colab_type": "code",
        "colab": {}
      },
      "source": [
        "result = audio_features.pop(stuff, None) "
      ],
      "execution_count": 0,
      "outputs": []
    },
    {
      "cell_type": "code",
      "metadata": {
        "id": "qn1dgNd5nXA0",
        "colab_type": "code",
        "outputId": "a04d7fdd-669f-40f5-cf9c-e2fa36e48f03",
        "colab": {
          "base_uri": "https://localhost:8080/",
          "height": 306
        }
      },
      "source": [
        "audio_features"
      ],
      "execution_count": 0,
      "outputs": [
        {
          "output_type": "execute_result",
          "data": {
            "text/plain": [
              "{'acousticness': 0.0816,\n",
              " 'analysis_url': 'https://api.spotify.com/v1/audio-analysis/7azo4rpSUh8nXgtonC6Pkq',\n",
              " 'danceability': 0.764,\n",
              " 'duration_ms': 358053,\n",
              " 'energy': 0.887,\n",
              " 'id': '7azo4rpSUh8nXgtonC6Pkq',\n",
              " 'instrumentalness': 0.000108,\n",
              " 'key': 11,\n",
              " 'liveness': 0.847,\n",
              " 'loudness': -3.725,\n",
              " 'mode': 1,\n",
              " 'speechiness': 0.0738,\n",
              " 'tempo': 118.421,\n",
              " 'time_signature': 4,\n",
              " 'track_href': 'https://api.spotify.com/v1/tracks/7azo4rpSUh8nXgtonC6Pkq',\n",
              " 'type': 'audio_features',\n",
              " 'valence': 0.721}"
            ]
          },
          "metadata": {
            "tags": []
          },
          "execution_count": 140
        }
      ]
    },
    {
      "cell_type": "code",
      "metadata": {
        "id": "InN3h2cP92DN",
        "colab_type": "code",
        "colab": {}
      },
      "source": [
        "audio_features = sp.audio_features(track_id)"
      ],
      "execution_count": 0,
      "outputs": []
    },
    {
      "cell_type": "code",
      "metadata": {
        "id": "HjQxMDYY9X_S",
        "colab_type": "code",
        "outputId": "aeab0ae9-c6b0-4694-8417-f57f6ceacac0",
        "colab": {
          "base_uri": "https://localhost:8080/",
          "height": 1000
        }
      },
      "source": [
        "result['tracks']['items'][0]\n"
      ],
      "execution_count": 0,
      "outputs": [
        {
          "output_type": "execute_result",
          "data": {
            "text/plain": [
              "{'album': {'album_type': 'album',\n",
              "  'artists': [{'external_urls': {'spotify': 'https://open.spotify.com/artist/3fMbdgg4jU18AjLCKBhRSm'},\n",
              "    'href': 'https://api.spotify.com/v1/artists/3fMbdgg4jU18AjLCKBhRSm',\n",
              "    'id': '3fMbdgg4jU18AjLCKBhRSm',\n",
              "    'name': 'Michael Jackson',\n",
              "    'type': 'artist',\n",
              "    'uri': 'spotify:artist:3fMbdgg4jU18AjLCKBhRSm'}],\n",
              "  'available_markets': ['AD',\n",
              "   'AE',\n",
              "   'AR',\n",
              "   'AT',\n",
              "   'AU',\n",
              "   'BE',\n",
              "   'BG',\n",
              "   'BH',\n",
              "   'BO',\n",
              "   'BR',\n",
              "   'CA',\n",
              "   'CH',\n",
              "   'CL',\n",
              "   'CO',\n",
              "   'CR',\n",
              "   'CY',\n",
              "   'CZ',\n",
              "   'DE',\n",
              "   'DK',\n",
              "   'DO',\n",
              "   'DZ',\n",
              "   'EC',\n",
              "   'EE',\n",
              "   'EG',\n",
              "   'ES',\n",
              "   'FI',\n",
              "   'FR',\n",
              "   'GB',\n",
              "   'GR',\n",
              "   'GT',\n",
              "   'HK',\n",
              "   'HN',\n",
              "   'HU',\n",
              "   'ID',\n",
              "   'IE',\n",
              "   'IL',\n",
              "   'IN',\n",
              "   'IS',\n",
              "   'IT',\n",
              "   'JO',\n",
              "   'JP',\n",
              "   'KW',\n",
              "   'LB',\n",
              "   'LI',\n",
              "   'LT',\n",
              "   'LU',\n",
              "   'LV',\n",
              "   'MA',\n",
              "   'MC',\n",
              "   'MT',\n",
              "   'MX',\n",
              "   'MY',\n",
              "   'NI',\n",
              "   'NL',\n",
              "   'NO',\n",
              "   'NZ',\n",
              "   'OM',\n",
              "   'PA',\n",
              "   'PE',\n",
              "   'PH',\n",
              "   'PL',\n",
              "   'PS',\n",
              "   'PT',\n",
              "   'PY',\n",
              "   'QA',\n",
              "   'RO',\n",
              "   'SA',\n",
              "   'SE',\n",
              "   'SG',\n",
              "   'SK',\n",
              "   'SV',\n",
              "   'TH',\n",
              "   'TN',\n",
              "   'TR',\n",
              "   'TW',\n",
              "   'US',\n",
              "   'UY',\n",
              "   'VN',\n",
              "   'ZA'],\n",
              "  'external_urls': {'spotify': 'https://open.spotify.com/album/2X8UOIkZQdcz2Hi5Ynt2uk'},\n",
              "  'href': 'https://api.spotify.com/v1/albums/2X8UOIkZQdcz2Hi5Ynt2uk',\n",
              "  'id': '2X8UOIkZQdcz2Hi5Ynt2uk',\n",
              "  'images': [{'height': 640,\n",
              "    'url': 'https://i.scdn.co/image/ab67616d0000b273cde37cfdee48dc0eae1e2ab8',\n",
              "    'width': 640},\n",
              "   {'height': 300,\n",
              "    'url': 'https://i.scdn.co/image/ab67616d00001e02cde37cfdee48dc0eae1e2ab8',\n",
              "    'width': 300},\n",
              "   {'height': 64,\n",
              "    'url': 'https://i.scdn.co/image/ab67616d00004851cde37cfdee48dc0eae1e2ab8',\n",
              "    'width': 64}],\n",
              "  'name': 'Scream',\n",
              "  'release_date': '2017-09-27',\n",
              "  'release_date_precision': 'day',\n",
              "  'total_tracks': 14,\n",
              "  'type': 'album',\n",
              "  'uri': 'spotify:album:2X8UOIkZQdcz2Hi5Ynt2uk'},\n",
              " 'artists': [{'external_urls': {'spotify': 'https://open.spotify.com/artist/3fMbdgg4jU18AjLCKBhRSm'},\n",
              "   'href': 'https://api.spotify.com/v1/artists/3fMbdgg4jU18AjLCKBhRSm',\n",
              "   'id': '3fMbdgg4jU18AjLCKBhRSm',\n",
              "   'name': 'Michael Jackson',\n",
              "   'type': 'artist',\n",
              "   'uri': 'spotify:artist:3fMbdgg4jU18AjLCKBhRSm'}],\n",
              " 'available_markets': ['AD',\n",
              "  'AE',\n",
              "  'AR',\n",
              "  'AT',\n",
              "  'AU',\n",
              "  'BE',\n",
              "  'BG',\n",
              "  'BH',\n",
              "  'BO',\n",
              "  'BR',\n",
              "  'CA',\n",
              "  'CH',\n",
              "  'CL',\n",
              "  'CO',\n",
              "  'CR',\n",
              "  'CY',\n",
              "  'CZ',\n",
              "  'DE',\n",
              "  'DK',\n",
              "  'DO',\n",
              "  'DZ',\n",
              "  'EC',\n",
              "  'EE',\n",
              "  'EG',\n",
              "  'ES',\n",
              "  'FI',\n",
              "  'FR',\n",
              "  'GB',\n",
              "  'GR',\n",
              "  'GT',\n",
              "  'HK',\n",
              "  'HN',\n",
              "  'HU',\n",
              "  'ID',\n",
              "  'IE',\n",
              "  'IL',\n",
              "  'IN',\n",
              "  'IS',\n",
              "  'IT',\n",
              "  'JO',\n",
              "  'JP',\n",
              "  'KW',\n",
              "  'LB',\n",
              "  'LI',\n",
              "  'LT',\n",
              "  'LU',\n",
              "  'LV',\n",
              "  'MA',\n",
              "  'MC',\n",
              "  'MT',\n",
              "  'MX',\n",
              "  'MY',\n",
              "  'NI',\n",
              "  'NL',\n",
              "  'NO',\n",
              "  'NZ',\n",
              "  'OM',\n",
              "  'PA',\n",
              "  'PE',\n",
              "  'PH',\n",
              "  'PL',\n",
              "  'PS',\n",
              "  'PT',\n",
              "  'PY',\n",
              "  'QA',\n",
              "  'RO',\n",
              "  'SA',\n",
              "  'SE',\n",
              "  'SG',\n",
              "  'SK',\n",
              "  'SV',\n",
              "  'TH',\n",
              "  'TN',\n",
              "  'TR',\n",
              "  'TW',\n",
              "  'US',\n",
              "  'UY',\n",
              "  'VN',\n",
              "  'ZA'],\n",
              " 'disc_number': 1,\n",
              " 'duration_ms': 358053,\n",
              " 'explicit': False,\n",
              " 'external_ids': {'isrc': 'USSM19902989'},\n",
              " 'external_urls': {'spotify': 'https://open.spotify.com/track/7azo4rpSUh8nXgtonC6Pkq'},\n",
              " 'href': 'https://api.spotify.com/v1/tracks/7azo4rpSUh8nXgtonC6Pkq',\n",
              " 'id': '7azo4rpSUh8nXgtonC6Pkq',\n",
              " 'is_local': False,\n",
              " 'name': 'Thriller',\n",
              " 'popularity': 69,\n",
              " 'preview_url': 'https://p.scdn.co/mp3-preview/9f288fba4d3380b1ae25e7f88a2054d7fac0bf2d?cid=41467bca65514079952e212808b80b3e',\n",
              " 'track_number': 2,\n",
              " 'type': 'track',\n",
              " 'uri': 'spotify:track:7azo4rpSUh8nXgtonC6Pkq'}"
            ]
          },
          "metadata": {
            "tags": []
          },
          "execution_count": 46
        }
      ]
    },
    {
      "cell_type": "code",
      "metadata": {
        "id": "f2kp1diPnqo2",
        "colab_type": "code",
        "colab": {}
      },
      "source": [
        "spotify:track:65Ve3XLglW5xSYVFnnm5mI"
      ],
      "execution_count": 0,
      "outputs": []
    },
    {
      "cell_type": "code",
      "metadata": {
        "id": "IR4-1oi4tEq5",
        "colab_type": "code",
        "colab": {}
      },
      "source": [
        "# run this to take a playlist and id and convert it to a dataframe of song ids and attributes:\n",
        "# playlist\n",
        "playlist = sp.user_playlist(\"This Is The Black Keys\", \"37i9dQZF1DX2rBR3X9E86S\") \n",
        "songs = playlist[\"tracks\"][\"items\"] \n",
        "ids = [] \n",
        "for i in range(len(songs)): \n",
        "    ids.append(songs[i][\"track\"][\"id\"]) \n",
        "features = sp.audio_features(ids) \n",
        "df = pd.DataFrame(features)"
      ],
      "execution_count": 0,
      "outputs": []
    },
    {
      "cell_type": "code",
      "metadata": {
        "id": "Sfxbbz0ntErT",
        "colab_type": "code",
        "outputId": "0c58a5aa-7cfe-45cf-bfbe-72de5fba1e67",
        "colab": {
          "base_uri": "https://localhost:8080/",
          "height": 33
        }
      },
      "source": [
        "df.shape"
      ],
      "execution_count": 0,
      "outputs": [
        {
          "output_type": "execute_result",
          "data": {
            "text/plain": [
              "(50, 18)"
            ]
          },
          "metadata": {
            "tags": []
          },
          "execution_count": 9
        }
      ]
    },
    {
      "cell_type": "code",
      "metadata": {
        "id": "E4hfZA79vK8O",
        "colab_type": "code",
        "colab": {}
      },
      "source": [
        "# just reading sql database in to compare outputs:\n",
        "\n",
        "SPOTIFY_DB_NAME = \"phmcuozt\"\n",
        "SPOTIFY_DB_PW = \"Hl4xzpVOZxiQ9af4kH5bavoEHIx7z3hn\"\n",
        "SPOTIFY_DB_HOST = \"drona.db.elephantsql.com\"\n",
        "SPOTIFY_DB_USER = \"phmcuozt\"\n",
        "\n",
        "conn = psycopg2.connect(dbname=SPOTIFY_DB_NAME, user=SPOTIFY_DB_USER,\n",
        "                        password=SPOTIFY_DB_PW, host=SPOTIFY_DB_HOST)\n",
        "\n"
      ],
      "execution_count": 0,
      "outputs": []
    },
    {
      "cell_type": "code",
      "metadata": {
        "id": "3ZoxP5ljrjz_",
        "colab_type": "code",
        "outputId": "62c6e8cd-fa5d-4868-bf81-24174a23eb1f",
        "colab": {
          "base_uri": "https://localhost:8080/",
          "height": 66
        }
      },
      "source": [
        "import timeit\n",
        "start = timeit.default_timer()\n",
        "\n",
        "# create empty lists where the results are going to be stored\n",
        "artist_name = []\n",
        "track_name = []\n",
        "popularity = []\n",
        "track_id = []\n",
        "\n",
        "\n",
        "#Spotify cut down the maximum offset to 10.000 (as of May 2018)\n",
        "#Seems anything above 2000 results and you get 404 which means need better auth token? (maybe not possible)\n",
        "\n",
        "for i in range(0,2000,50):\n",
        "    track_results = sp.search(q='year:1990', type='track', limit=50,offset=i, market=None)\n",
        "    for i, t in enumerate(track_results['tracks']['items']):\n",
        "        artist_name.append(t['artists'][0]['name'])\n",
        "        track_name.append(t['name'])\n",
        "        track_id.append(t['id'])\n",
        "        popularity.append(t['popularity'])\n",
        "      \n",
        "df_tracks = pd.DataFrame({'artist_name':artist_name,'track_name':track_name,'track_id':track_id,'popularity':popularity})\n",
        "grouped = df_tracks.groupby(['artist_name','track_name'], as_index=True).size()\n",
        "grouped[grouped > 1].count()\n",
        "df_tracks.drop_duplicates(subset=['artist_name','track_name'], inplace=True)\n",
        "grouped_after_dropping = df_tracks.groupby(['artist_name','track_name'], as_index=True).size()\n",
        "grouped_after_dropping[grouped_after_dropping > 1].count()\n",
        "\n",
        "\n",
        "# empty list, batchsize and the counter for None results\n",
        "rows = []\n",
        "batchsize = 100\n",
        "None_counter = 0\n",
        "\n",
        "for i in range(0,len(df_tracks['track_id']),batchsize):\n",
        "    batch = df_tracks['track_id'][i:i+batchsize]\n",
        "    feature_results = sp.audio_features(batch)\n",
        "    for i, t in enumerate(feature_results):\n",
        "        if t == None:\n",
        "            None_counter = None_counter + 1\n",
        "        else:\n",
        "            rows.append(t)\n",
        "            \n",
        "print('Number of tracks where no audio features were available:',None_counter)\n",
        "df_audio_features = pd.DataFrame.from_dict(rows,orient='columns')\n",
        "print(\"Shape of the dataset:\", df_audio_features.shape)\n",
        "df_audio_features.head()\n",
        "\n",
        "columns_to_drop = ['analysis_url','track_href','type','uri']\n",
        "df_audio_features.drop(columns_to_drop, axis=1,inplace=True)\n",
        "\n",
        "df_audio_features.rename(columns={'id': 'track_id'}, inplace=True)\n",
        "\n",
        "df_audio_features.shape\n",
        "\n",
        "df = pd.merge(df_tracks,df_audio_features,on='track_id',how='inner')\n",
        "\n",
        "df[df.duplicated(subset=['artist_name','track_name'],keep=False)]\n",
        "\n",
        "stop = timeit.default_timer()\n",
        "\n",
        "print ('Time to run this code (in seconds):', stop - start)"
      ],
      "execution_count": 0,
      "outputs": [
        {
          "output_type": "stream",
          "text": [
            "Number of tracks where no audio features were available: 0\n",
            "Shape of the dataset: (1935, 18)\n",
            "Time to run this code (in seconds): 9.987151636999442\n"
          ],
          "name": "stdout"
        }
      ]
    },
    {
      "cell_type": "code",
      "metadata": {
        "id": "nHINtprztf3N",
        "colab_type": "code",
        "outputId": "e51179f8-db3e-4d4b-c533-d08e1c47dbe0",
        "colab": {
          "base_uri": "https://localhost:8080/",
          "height": 33
        }
      },
      "source": [
        "# ran the code above for a different year and assigned it to a variable labeled accordingly\n",
        "# afterwards concatenated each data frame into one 21k \n",
        "# spotify only allows 2000 songs to be pulled at a time. \n",
        "\n",
        "frames = [df09_20, df2008, df2007, df2006, df2005, df2004, df2003, df2002, df2001, df2000, df1999, df1998, df1997, df1996, df1995, df1994, df1993, df1992, df1991, df1990]\n",
        "\n",
        "result = pd.concat(frames)\n",
        "\n",
        "result.shape"
      ],
      "execution_count": 0,
      "outputs": [
        {
          "output_type": "execute_result",
          "data": {
            "text/plain": [
              "(58223, 17)"
            ]
          },
          "metadata": {
            "tags": []
          },
          "execution_count": 64
        }
      ]
    },
    {
      "cell_type": "code",
      "metadata": {
        "id": "BviePfKuwRiv",
        "colab_type": "code",
        "colab": {}
      },
      "source": [
        "from google.colab import files\n",
        "\n",
        "result.to_csv('df1990-df2020.csv')\n",
        "files.download('df1990-df2020.csv')"
      ],
      "execution_count": 0,
      "outputs": []
    },
    {
      "cell_type": "code",
      "metadata": {
        "id": "amgGFZ2zt3Ow",
        "colab_type": "code",
        "outputId": "249952b7-ddf3-4278-b6cc-c004d40f0dc5",
        "colab": {
          "base_uri": "https://localhost:8080/",
          "height": 391
        }
      },
      "source": [
        "result[result.duplicated(subset=['artist_name','track_name'],keep=False)]"
      ],
      "execution_count": 0,
      "outputs": [
        {
          "output_type": "execute_result",
          "data": {
            "text/html": [
              "<div>\n",
              "<style scoped>\n",
              "    .dataframe tbody tr th:only-of-type {\n",
              "        vertical-align: middle;\n",
              "    }\n",
              "\n",
              "    .dataframe tbody tr th {\n",
              "        vertical-align: top;\n",
              "    }\n",
              "\n",
              "    .dataframe thead th {\n",
              "        text-align: right;\n",
              "    }\n",
              "</style>\n",
              "<table border=\"1\" class=\"dataframe\">\n",
              "  <thead>\n",
              "    <tr style=\"text-align: right;\">\n",
              "      <th></th>\n",
              "      <th>artist_name</th>\n",
              "      <th>track_name</th>\n",
              "      <th>track_id</th>\n",
              "      <th>popularity</th>\n",
              "      <th>danceability</th>\n",
              "      <th>energy</th>\n",
              "      <th>key</th>\n",
              "      <th>loudness</th>\n",
              "      <th>mode</th>\n",
              "      <th>speechiness</th>\n",
              "      <th>acousticness</th>\n",
              "      <th>instrumentalness</th>\n",
              "      <th>liveness</th>\n",
              "      <th>valence</th>\n",
              "      <th>tempo</th>\n",
              "      <th>duration_ms</th>\n",
              "      <th>time_signature</th>\n",
              "    </tr>\n",
              "  </thead>\n",
              "  <tbody>\n",
              "    <tr>\n",
              "      <th>10</th>\n",
              "      <td>Brooks &amp; Dunn</td>\n",
              "      <td>Neon Moon</td>\n",
              "      <td>3EUl8M6SzxZl03NPkB8mUd</td>\n",
              "      <td>71</td>\n",
              "      <td>0.702</td>\n",
              "      <td>0.6320</td>\n",
              "      <td>9</td>\n",
              "      <td>-6.508</td>\n",
              "      <td>1</td>\n",
              "      <td>0.0247</td>\n",
              "      <td>0.5540</td>\n",
              "      <td>0.000000</td>\n",
              "      <td>0.127</td>\n",
              "      <td>0.457</td>\n",
              "      <td>102.404</td>\n",
              "      <td>263500</td>\n",
              "      <td>4</td>\n",
              "    </tr>\n",
              "    <tr>\n",
              "      <th>13</th>\n",
              "      <td>JAY-Z</td>\n",
              "      <td>Empire State Of Mind</td>\n",
              "      <td>2igwFfvr1OAGX9SKDCPBwO</td>\n",
              "      <td>79</td>\n",
              "      <td>0.491</td>\n",
              "      <td>0.9560</td>\n",
              "      <td>11</td>\n",
              "      <td>-1.538</td>\n",
              "      <td>1</td>\n",
              "      <td>0.3920</td>\n",
              "      <td>0.0295</td>\n",
              "      <td>0.000000</td>\n",
              "      <td>0.460</td>\n",
              "      <td>0.811</td>\n",
              "      <td>173.585</td>\n",
              "      <td>276920</td>\n",
              "      <td>4</td>\n",
              "    </tr>\n",
              "    <tr>\n",
              "      <th>15</th>\n",
              "      <td>Florence + The Machine</td>\n",
              "      <td>Dog Days Are Over</td>\n",
              "      <td>1YLJVmuzeM2YSUkCCaTNUB</td>\n",
              "      <td>70</td>\n",
              "      <td>0.492</td>\n",
              "      <td>0.8100</td>\n",
              "      <td>7</td>\n",
              "      <td>-5.315</td>\n",
              "      <td>1</td>\n",
              "      <td>0.0847</td>\n",
              "      <td>0.0416</td>\n",
              "      <td>0.003790</td>\n",
              "      <td>0.117</td>\n",
              "      <td>0.245</td>\n",
              "      <td>149.954</td>\n",
              "      <td>251840</td>\n",
              "      <td>4</td>\n",
              "    </tr>\n",
              "    <tr>\n",
              "      <th>21</th>\n",
              "      <td>Brooks &amp; Dunn</td>\n",
              "      <td>Boot Scootin' Boogie</td>\n",
              "      <td>7Fq9RwQxSn3kW85PrDUf0M</td>\n",
              "      <td>69</td>\n",
              "      <td>0.656</td>\n",
              "      <td>0.8170</td>\n",
              "      <td>11</td>\n",
              "      <td>-4.296</td>\n",
              "      <td>0</td>\n",
              "      <td>0.0435</td>\n",
              "      <td>0.2200</td>\n",
              "      <td>0.000000</td>\n",
              "      <td>0.306</td>\n",
              "      <td>0.862</td>\n",
              "      <td>130.446</td>\n",
              "      <td>198020</td>\n",
              "      <td>4</td>\n",
              "    </tr>\n",
              "    <tr>\n",
              "      <th>24</th>\n",
              "      <td>Brooks &amp; Dunn</td>\n",
              "      <td>My Maria</td>\n",
              "      <td>09qzRI951OVkXGCc33gzcT</td>\n",
              "      <td>69</td>\n",
              "      <td>0.673</td>\n",
              "      <td>0.8420</td>\n",
              "      <td>3</td>\n",
              "      <td>-4.627</td>\n",
              "      <td>1</td>\n",
              "      <td>0.0365</td>\n",
              "      <td>0.0600</td>\n",
              "      <td>0.000257</td>\n",
              "      <td>0.184</td>\n",
              "      <td>0.897</td>\n",
              "      <td>125.571</td>\n",
              "      <td>207772</td>\n",
              "      <td>4</td>\n",
              "    </tr>\n",
              "    <tr>\n",
              "      <th>...</th>\n",
              "      <td>...</td>\n",
              "      <td>...</td>\n",
              "      <td>...</td>\n",
              "      <td>...</td>\n",
              "      <td>...</td>\n",
              "      <td>...</td>\n",
              "      <td>...</td>\n",
              "      <td>...</td>\n",
              "      <td>...</td>\n",
              "      <td>...</td>\n",
              "      <td>...</td>\n",
              "      <td>...</td>\n",
              "      <td>...</td>\n",
              "      <td>...</td>\n",
              "      <td>...</td>\n",
              "      <td>...</td>\n",
              "      <td>...</td>\n",
              "    </tr>\n",
              "    <tr>\n",
              "      <th>1690</th>\n",
              "      <td>Antonio Aguilar</td>\n",
              "      <td>Caballo Prieto Azabache</td>\n",
              "      <td>0OBcOSnWoRXtVqjjsHixOq</td>\n",
              "      <td>35</td>\n",
              "      <td>0.442</td>\n",
              "      <td>0.3720</td>\n",
              "      <td>5</td>\n",
              "      <td>-9.485</td>\n",
              "      <td>1</td>\n",
              "      <td>0.0512</td>\n",
              "      <td>0.8160</td>\n",
              "      <td>0.000000</td>\n",
              "      <td>0.226</td>\n",
              "      <td>0.856</td>\n",
              "      <td>180.117</td>\n",
              "      <td>236913</td>\n",
              "      <td>3</td>\n",
              "    </tr>\n",
              "    <tr>\n",
              "      <th>1713</th>\n",
              "      <td>Uncle Tupelo</td>\n",
              "      <td>Still Be Around</td>\n",
              "      <td>6RvqfG9zOWDNQSoBUxSvsX</td>\n",
              "      <td>28</td>\n",
              "      <td>0.434</td>\n",
              "      <td>0.3800</td>\n",
              "      <td>4</td>\n",
              "      <td>-10.801</td>\n",
              "      <td>1</td>\n",
              "      <td>0.0299</td>\n",
              "      <td>0.8080</td>\n",
              "      <td>0.000025</td>\n",
              "      <td>0.342</td>\n",
              "      <td>0.355</td>\n",
              "      <td>112.845</td>\n",
              "      <td>164307</td>\n",
              "      <td>4</td>\n",
              "    </tr>\n",
              "    <tr>\n",
              "      <th>1790</th>\n",
              "      <td>Antonio Aguilar</td>\n",
              "      <td>El Moro De Cumpas</td>\n",
              "      <td>13f8HaGpjewY3NvqSxnKfi</td>\n",
              "      <td>35</td>\n",
              "      <td>0.612</td>\n",
              "      <td>0.5530</td>\n",
              "      <td>0</td>\n",
              "      <td>-7.242</td>\n",
              "      <td>1</td>\n",
              "      <td>0.0375</td>\n",
              "      <td>0.4070</td>\n",
              "      <td>0.000000</td>\n",
              "      <td>0.161</td>\n",
              "      <td>0.975</td>\n",
              "      <td>132.958</td>\n",
              "      <td>215446</td>\n",
              "      <td>4</td>\n",
              "    </tr>\n",
              "    <tr>\n",
              "      <th>1825</th>\n",
              "      <td>Hi-Five</td>\n",
              "      <td>Unconditional Love</td>\n",
              "      <td>1jVaaVBHRC1me5WONdnkTw</td>\n",
              "      <td>27</td>\n",
              "      <td>0.650</td>\n",
              "      <td>0.8430</td>\n",
              "      <td>5</td>\n",
              "      <td>-4.395</td>\n",
              "      <td>0</td>\n",
              "      <td>0.0402</td>\n",
              "      <td>0.1730</td>\n",
              "      <td>0.000044</td>\n",
              "      <td>0.254</td>\n",
              "      <td>0.707</td>\n",
              "      <td>147.847</td>\n",
              "      <td>302507</td>\n",
              "      <td>4</td>\n",
              "    </tr>\n",
              "    <tr>\n",
              "      <th>1915</th>\n",
              "      <td>Johann Sebastian Bach</td>\n",
              "      <td>Herz und Mund und Tat und Leben, Cantata BWV 1...</td>\n",
              "      <td>2XNpCyO5ER63K0yAjDlefv</td>\n",
              "      <td>36</td>\n",
              "      <td>0.160</td>\n",
              "      <td>0.0754</td>\n",
              "      <td>7</td>\n",
              "      <td>-23.815</td>\n",
              "      <td>1</td>\n",
              "      <td>0.0478</td>\n",
              "      <td>0.9620</td>\n",
              "      <td>0.882000</td>\n",
              "      <td>0.116</td>\n",
              "      <td>0.100</td>\n",
              "      <td>135.807</td>\n",
              "      <td>208467</td>\n",
              "      <td>4</td>\n",
              "    </tr>\n",
              "  </tbody>\n",
              "</table>\n",
              "<p>3881 rows × 17 columns</p>\n",
              "</div>"
            ],
            "text/plain": [
              "                 artist_name  ... time_signature\n",
              "10             Brooks & Dunn  ...              4\n",
              "13                     JAY-Z  ...              4\n",
              "15    Florence + The Machine  ...              4\n",
              "21             Brooks & Dunn  ...              4\n",
              "24             Brooks & Dunn  ...              4\n",
              "...                      ...  ...            ...\n",
              "1690         Antonio Aguilar  ...              3\n",
              "1713            Uncle Tupelo  ...              4\n",
              "1790         Antonio Aguilar  ...              4\n",
              "1825                 Hi-Five  ...              4\n",
              "1915   Johann Sebastian Bach  ...              4\n",
              "\n",
              "[3881 rows x 17 columns]"
            ]
          },
          "metadata": {
            "tags": []
          },
          "execution_count": 66
        }
      ]
    },
    {
      "cell_type": "code",
      "metadata": {
        "id": "nWSyDcglujf2",
        "colab_type": "code",
        "outputId": "7b89200c-8278-45d0-e338-c7a449ba527f",
        "colab": {
          "base_uri": "https://localhost:8080/",
          "height": 33
        }
      },
      "source": [
        "result.shape"
      ],
      "execution_count": 0,
      "outputs": [
        {
          "output_type": "execute_result",
          "data": {
            "text/plain": [
              "(58223, 17)"
            ]
          },
          "metadata": {
            "tags": []
          },
          "execution_count": 67
        }
      ]
    },
    {
      "cell_type": "code",
      "metadata": {
        "id": "Ei7ZlgDGmPT0",
        "colab_type": "code",
        "colab": {}
      },
      "source": [
        "df[df.duplicated(subset=['artist_name','track_name'],keep=False)]"
      ],
      "execution_count": 0,
      "outputs": []
    },
    {
      "cell_type": "code",
      "metadata": {
        "id": "nIBL5ziggpzY",
        "colab_type": "code",
        "colab": {}
      },
      "source": [
        "# user puts in username \n",
        "# this populates database with their tracks\n",
        "# "
      ],
      "execution_count": 0,
      "outputs": []
    },
    {
      "cell_type": "code",
      "metadata": {
        "id": "60jy__I_Zkuv",
        "colab_type": "code",
        "colab": {}
      },
      "source": [
        "import numpy as np\n",
        "from tensorflow.keras.layers import Dense\n",
        "from tensorflow.keras.models import Sequential\n",
        "\n",
        "\n",
        "def normalize(vectors):\n",
        "    return vectors / np.linalg.norm(vectors, axis=1, keepdims=True)\n",
        "\n",
        "def predict(model, input_vector):\n",
        "    return model.predict(input_vector).argsort()\n",
        "\n",
        "def build_model(weights):\n",
        "    model = Sequential([\n",
        "        # Dot product between feature vector and reference vectors\n",
        "        Dense(input_shape=(13,),\n",
        "              units=weights.shape[0],\n",
        "              activation='linear',\n",
        "              name='dense_1',\n",
        "              use_bias=False)\n",
        "    ])\n",
        "    model.set_weights([weights.T])\n",
        "    return model\n",
        "\n",
        "def get_results(input_vector, features, best_match=True, amount=6):\n",
        "    \"\"\"\n",
        "    get_results(input_vector, features, best_match=True,\n",
        "                                        amount=6)\n",
        "\n",
        "    input_vector: features of the song to suggest similar songs to\n",
        "\n",
        "    features: features from full database to suggest songs from, plus track_ids\n",
        "\n",
        "    best_match=True: True if you want most similar songs, False if least similar\n",
        "\n",
        "    amount=6: amount of results to return.\n",
        "\n",
        "    returns a list (might be a numpy array?) of indices from the original database\n",
        "    \"\"\"\n",
        "    tr_id = input_vector['id'].values[0]\n",
        "    ids = features['id']\n",
        "    input_vec = input_vector.drop('id', axis=1)\n",
        "    feats = features.drop('id', axis=1)\n",
        "    norm_vector = normalize(input_vec.values.reshape(1,13))\n",
        "    norm_features = normalize(feats)\n",
        "    model = build_model(norm_features)\n",
        "    prediction = np.array(predict(model, norm_vector).argsort())\n",
        "    prediction = prediction.reshape(prediction.shape[1])\n",
        "    if best_match:\n",
        "        if tr_id in ids[prediction[-amount:]]:\n",
        "            return features.loc[prediction[-amount-1:-1]]\n",
        "        return features.loc[prediction[-amount:]]\n",
        "    return features.loc[prediction[:amount]]\n"
      ],
      "execution_count": 0,
      "outputs": []
    },
    {
      "cell_type": "code",
      "metadata": {
        "id": "ssI4hRikbgHD",
        "colab_type": "code",
        "colab": {}
      },
      "source": [
        "from flask import jsonify"
      ],
      "execution_count": 0,
      "outputs": []
    },
    {
      "cell_type": "code",
      "metadata": {
        "id": "Rd1HZpzYZ7SX",
        "colab_type": "code",
        "colab": {}
      },
      "source": [
        " def get_stuff(artist_name, track_name):\n",
        "    result = sp.search(q=f'artist:{artist_name} track:{track_name}')\n",
        "    track_id = result['tracks']['items'][0]['id']\n",
        "    audio_features = sp.audio_features(track_id)\n",
        "    audio_features = audio_features[0]\n",
        "    keys_to_remove = [\"uri\", \"analysis_url\", \"type\", \"track_href\"]\n",
        "    for key in keys_to_remove:\n",
        "      del audio_features[key]\n",
        "    audio_features_df = pd.DataFrame(audio_features, index=[0])\n",
        "    # audio_features_json = jsonify(audio_features)\n",
        "    return audio_features_df\n"
      ],
      "execution_count": 0,
      "outputs": []
    },
    {
      "cell_type": "code",
      "metadata": {
        "id": "GYU5lzWtc8R7",
        "colab_type": "code",
        "colab": {}
      },
      "source": [
        "audio_features_df = get_stuff('U2','One')"
      ],
      "execution_count": 0,
      "outputs": []
    },
    {
      "cell_type": "code",
      "metadata": {
        "id": "_rKl2CPOcYCH",
        "colab_type": "code",
        "colab": {}
      },
      "source": [
        "    #MODEL RETURNS 6 RECOMMENDS\n",
        "    SPOTIFY_DB_NAME = \"phmcuozt\"\n",
        "    SPOTIFY_DB_PW = \"Hl4xzpVOZxiQ9af4kH5bavoEHIx7z3hn\"\n",
        "    SPOTIFY_DB_HOST = \"drona.db.elephantsql.com\"\n",
        "    SPOTIFY_DB_USER = \"phmcuozt\"\n",
        "    conn = psycopg2.connect(dbname=SPOTIFY_DB_NAME, user=SPOTIFY_DB_USER,\n",
        "                    password=SPOTIFY_DB_PW, host=SPOTIFY_DB_HOST)\n",
        "    # model_results = \"HI\"\n",
        "    model_query = '''\n",
        "    SELECT *\n",
        "    FROM spotify_table\n",
        "    '''\n",
        "    model_results = get_results(audio_features_df, pd.read_sql_query(model_query, conn).drop(['track_name', 'artist_name'], axis=1))\n",
        "    conn.close()\n",
        "\n",
        "\n"
      ],
      "execution_count": 0,
      "outputs": []
    },
    {
      "cell_type": "code",
      "metadata": {
        "id": "xE1GxRCPtkwZ",
        "colab_type": "code",
        "outputId": "0628609d-9b74-4a53-88f5-161f5bf83324",
        "colab": {
          "base_uri": "https://localhost:8080/",
          "height": 77
        }
      },
      "source": [
        "audio_features_df"
      ],
      "execution_count": 0,
      "outputs": [
        {
          "output_type": "execute_result",
          "data": {
            "text/html": [
              "<div>\n",
              "<style scoped>\n",
              "    .dataframe tbody tr th:only-of-type {\n",
              "        vertical-align: middle;\n",
              "    }\n",
              "\n",
              "    .dataframe tbody tr th {\n",
              "        vertical-align: top;\n",
              "    }\n",
              "\n",
              "    .dataframe thead th {\n",
              "        text-align: right;\n",
              "    }\n",
              "</style>\n",
              "<table border=\"1\" class=\"dataframe\">\n",
              "  <thead>\n",
              "    <tr style=\"text-align: right;\">\n",
              "      <th></th>\n",
              "      <th>danceability</th>\n",
              "      <th>energy</th>\n",
              "      <th>key</th>\n",
              "      <th>loudness</th>\n",
              "      <th>mode</th>\n",
              "      <th>speechiness</th>\n",
              "      <th>acousticness</th>\n",
              "      <th>instrumentalness</th>\n",
              "      <th>liveness</th>\n",
              "      <th>valence</th>\n",
              "      <th>tempo</th>\n",
              "      <th>duration_ms</th>\n",
              "      <th>time_signature</th>\n",
              "    </tr>\n",
              "  </thead>\n",
              "  <tbody>\n",
              "    <tr>\n",
              "      <th>0</th>\n",
              "      <td>0.706</td>\n",
              "      <td>0.861</td>\n",
              "      <td>11</td>\n",
              "      <td>-6.684</td>\n",
              "      <td>1</td>\n",
              "      <td>0.154</td>\n",
              "      <td>0.0341</td>\n",
              "      <td>0</td>\n",
              "      <td>0.127</td>\n",
              "      <td>0.923</td>\n",
              "      <td>119.946</td>\n",
              "      <td>238427</td>\n",
              "      <td>4</td>\n",
              "    </tr>\n",
              "  </tbody>\n",
              "</table>\n",
              "</div>"
            ],
            "text/plain": [
              "   danceability  energy  key  ...    tempo  duration_ms  time_signature\n",
              "0         0.706   0.861   11  ...  119.946       238427               4\n",
              "\n",
              "[1 rows x 13 columns]"
            ]
          },
          "metadata": {
            "tags": []
          },
          "execution_count": 100
        }
      ]
    },
    {
      "cell_type": "code",
      "metadata": {
        "id": "piA-6Chota1U",
        "colab_type": "code",
        "outputId": "3f60eaee-304e-4d1c-d1c3-18684445035e",
        "colab": {
          "base_uri": "https://localhost:8080/",
          "height": 316
        }
      },
      "source": [
        "audio_features_df.drop('id', inplace=True, axis=1)"
      ],
      "execution_count": 0,
      "outputs": [
        {
          "output_type": "error",
          "ename": "KeyError",
          "evalue": "ignored",
          "traceback": [
            "\u001b[0;31m---------------------------------------------------------------------------\u001b[0m",
            "\u001b[0;31mKeyError\u001b[0m                                  Traceback (most recent call last)",
            "\u001b[0;32m<ipython-input-99-1ef6d0a73ef6>\u001b[0m in \u001b[0;36m<module>\u001b[0;34m()\u001b[0m\n\u001b[0;32m----> 1\u001b[0;31m \u001b[0maudio_features_df\u001b[0m\u001b[0;34m.\u001b[0m\u001b[0mdrop\u001b[0m\u001b[0;34m(\u001b[0m\u001b[0;34m'id'\u001b[0m\u001b[0;34m,\u001b[0m \u001b[0minplace\u001b[0m\u001b[0;34m=\u001b[0m\u001b[0;32mTrue\u001b[0m\u001b[0;34m,\u001b[0m \u001b[0maxis\u001b[0m\u001b[0;34m=\u001b[0m\u001b[0;36m1\u001b[0m\u001b[0;34m)\u001b[0m\u001b[0;34m\u001b[0m\u001b[0;34m\u001b[0m\u001b[0m\n\u001b[0m",
            "\u001b[0;32m/usr/local/lib/python3.6/dist-packages/pandas/core/frame.py\u001b[0m in \u001b[0;36mdrop\u001b[0;34m(self, labels, axis, index, columns, level, inplace, errors)\u001b[0m\n\u001b[1;32m   3995\u001b[0m             \u001b[0mlevel\u001b[0m\u001b[0;34m=\u001b[0m\u001b[0mlevel\u001b[0m\u001b[0;34m,\u001b[0m\u001b[0;34m\u001b[0m\u001b[0;34m\u001b[0m\u001b[0m\n\u001b[1;32m   3996\u001b[0m             \u001b[0minplace\u001b[0m\u001b[0;34m=\u001b[0m\u001b[0minplace\u001b[0m\u001b[0;34m,\u001b[0m\u001b[0;34m\u001b[0m\u001b[0;34m\u001b[0m\u001b[0m\n\u001b[0;32m-> 3997\u001b[0;31m             \u001b[0merrors\u001b[0m\u001b[0;34m=\u001b[0m\u001b[0merrors\u001b[0m\u001b[0;34m,\u001b[0m\u001b[0;34m\u001b[0m\u001b[0;34m\u001b[0m\u001b[0m\n\u001b[0m\u001b[1;32m   3998\u001b[0m         )\n\u001b[1;32m   3999\u001b[0m \u001b[0;34m\u001b[0m\u001b[0m\n",
            "\u001b[0;32m/usr/local/lib/python3.6/dist-packages/pandas/core/generic.py\u001b[0m in \u001b[0;36mdrop\u001b[0;34m(self, labels, axis, index, columns, level, inplace, errors)\u001b[0m\n\u001b[1;32m   3934\u001b[0m         \u001b[0;32mfor\u001b[0m \u001b[0maxis\u001b[0m\u001b[0;34m,\u001b[0m \u001b[0mlabels\u001b[0m \u001b[0;32min\u001b[0m \u001b[0maxes\u001b[0m\u001b[0;34m.\u001b[0m\u001b[0mitems\u001b[0m\u001b[0;34m(\u001b[0m\u001b[0;34m)\u001b[0m\u001b[0;34m:\u001b[0m\u001b[0;34m\u001b[0m\u001b[0;34m\u001b[0m\u001b[0m\n\u001b[1;32m   3935\u001b[0m             \u001b[0;32mif\u001b[0m \u001b[0mlabels\u001b[0m \u001b[0;32mis\u001b[0m \u001b[0;32mnot\u001b[0m \u001b[0;32mNone\u001b[0m\u001b[0;34m:\u001b[0m\u001b[0;34m\u001b[0m\u001b[0;34m\u001b[0m\u001b[0m\n\u001b[0;32m-> 3936\u001b[0;31m                 \u001b[0mobj\u001b[0m \u001b[0;34m=\u001b[0m \u001b[0mobj\u001b[0m\u001b[0;34m.\u001b[0m\u001b[0m_drop_axis\u001b[0m\u001b[0;34m(\u001b[0m\u001b[0mlabels\u001b[0m\u001b[0;34m,\u001b[0m \u001b[0maxis\u001b[0m\u001b[0;34m,\u001b[0m \u001b[0mlevel\u001b[0m\u001b[0;34m=\u001b[0m\u001b[0mlevel\u001b[0m\u001b[0;34m,\u001b[0m \u001b[0merrors\u001b[0m\u001b[0;34m=\u001b[0m\u001b[0merrors\u001b[0m\u001b[0;34m)\u001b[0m\u001b[0;34m\u001b[0m\u001b[0;34m\u001b[0m\u001b[0m\n\u001b[0m\u001b[1;32m   3937\u001b[0m \u001b[0;34m\u001b[0m\u001b[0m\n\u001b[1;32m   3938\u001b[0m         \u001b[0;32mif\u001b[0m \u001b[0minplace\u001b[0m\u001b[0;34m:\u001b[0m\u001b[0;34m\u001b[0m\u001b[0;34m\u001b[0m\u001b[0m\n",
            "\u001b[0;32m/usr/local/lib/python3.6/dist-packages/pandas/core/generic.py\u001b[0m in \u001b[0;36m_drop_axis\u001b[0;34m(self, labels, axis, level, errors)\u001b[0m\n\u001b[1;32m   3968\u001b[0m                 \u001b[0mnew_axis\u001b[0m \u001b[0;34m=\u001b[0m \u001b[0maxis\u001b[0m\u001b[0;34m.\u001b[0m\u001b[0mdrop\u001b[0m\u001b[0;34m(\u001b[0m\u001b[0mlabels\u001b[0m\u001b[0;34m,\u001b[0m \u001b[0mlevel\u001b[0m\u001b[0;34m=\u001b[0m\u001b[0mlevel\u001b[0m\u001b[0;34m,\u001b[0m \u001b[0merrors\u001b[0m\u001b[0;34m=\u001b[0m\u001b[0merrors\u001b[0m\u001b[0;34m)\u001b[0m\u001b[0;34m\u001b[0m\u001b[0;34m\u001b[0m\u001b[0m\n\u001b[1;32m   3969\u001b[0m             \u001b[0;32melse\u001b[0m\u001b[0;34m:\u001b[0m\u001b[0;34m\u001b[0m\u001b[0;34m\u001b[0m\u001b[0m\n\u001b[0;32m-> 3970\u001b[0;31m                 \u001b[0mnew_axis\u001b[0m \u001b[0;34m=\u001b[0m \u001b[0maxis\u001b[0m\u001b[0;34m.\u001b[0m\u001b[0mdrop\u001b[0m\u001b[0;34m(\u001b[0m\u001b[0mlabels\u001b[0m\u001b[0;34m,\u001b[0m \u001b[0merrors\u001b[0m\u001b[0;34m=\u001b[0m\u001b[0merrors\u001b[0m\u001b[0;34m)\u001b[0m\u001b[0;34m\u001b[0m\u001b[0;34m\u001b[0m\u001b[0m\n\u001b[0m\u001b[1;32m   3971\u001b[0m             \u001b[0mresult\u001b[0m \u001b[0;34m=\u001b[0m \u001b[0mself\u001b[0m\u001b[0;34m.\u001b[0m\u001b[0mreindex\u001b[0m\u001b[0;34m(\u001b[0m\u001b[0;34m**\u001b[0m\u001b[0;34m{\u001b[0m\u001b[0maxis_name\u001b[0m\u001b[0;34m:\u001b[0m \u001b[0mnew_axis\u001b[0m\u001b[0;34m}\u001b[0m\u001b[0;34m)\u001b[0m\u001b[0;34m\u001b[0m\u001b[0;34m\u001b[0m\u001b[0m\n\u001b[1;32m   3972\u001b[0m \u001b[0;34m\u001b[0m\u001b[0m\n",
            "\u001b[0;32m/usr/local/lib/python3.6/dist-packages/pandas/core/indexes/base.py\u001b[0m in \u001b[0;36mdrop\u001b[0;34m(self, labels, errors)\u001b[0m\n\u001b[1;32m   5015\u001b[0m         \u001b[0;32mif\u001b[0m \u001b[0mmask\u001b[0m\u001b[0;34m.\u001b[0m\u001b[0many\u001b[0m\u001b[0;34m(\u001b[0m\u001b[0;34m)\u001b[0m\u001b[0;34m:\u001b[0m\u001b[0;34m\u001b[0m\u001b[0;34m\u001b[0m\u001b[0m\n\u001b[1;32m   5016\u001b[0m             \u001b[0;32mif\u001b[0m \u001b[0merrors\u001b[0m \u001b[0;34m!=\u001b[0m \u001b[0;34m\"ignore\"\u001b[0m\u001b[0;34m:\u001b[0m\u001b[0;34m\u001b[0m\u001b[0;34m\u001b[0m\u001b[0m\n\u001b[0;32m-> 5017\u001b[0;31m                 \u001b[0;32mraise\u001b[0m \u001b[0mKeyError\u001b[0m\u001b[0;34m(\u001b[0m\u001b[0;34mf\"{labels[mask]} not found in axis\"\u001b[0m\u001b[0;34m)\u001b[0m\u001b[0;34m\u001b[0m\u001b[0;34m\u001b[0m\u001b[0m\n\u001b[0m\u001b[1;32m   5018\u001b[0m             \u001b[0mindexer\u001b[0m \u001b[0;34m=\u001b[0m \u001b[0mindexer\u001b[0m\u001b[0;34m[\u001b[0m\u001b[0;34m~\u001b[0m\u001b[0mmask\u001b[0m\u001b[0;34m]\u001b[0m\u001b[0;34m\u001b[0m\u001b[0;34m\u001b[0m\u001b[0m\n\u001b[1;32m   5019\u001b[0m         \u001b[0;32mreturn\u001b[0m \u001b[0mself\u001b[0m\u001b[0;34m.\u001b[0m\u001b[0mdelete\u001b[0m\u001b[0;34m(\u001b[0m\u001b[0mindexer\u001b[0m\u001b[0;34m)\u001b[0m\u001b[0;34m\u001b[0m\u001b[0;34m\u001b[0m\u001b[0m\n",
            "\u001b[0;31mKeyError\u001b[0m: \"['id'] not found in axis\""
          ]
        }
      ]
    },
    {
      "cell_type": "code",
      "metadata": {
        "id": "YZUIVcYwtWcc",
        "colab_type": "code",
        "outputId": "6852575a-296e-4a4a-8cb7-e22c5ac0398e",
        "colab": {
          "base_uri": "https://localhost:8080/",
          "height": 52
        }
      },
      "source": [
        "np.arccos(np.dot(normalize(audio_features_df.drop('id',axis=1).values), normalize(model_results.drop('id',axis=1).values).T))"
      ],
      "execution_count": 0,
      "outputs": [
        {
          "output_type": "execute_result",
          "data": {
            "text/plain": [
              "array([[0.4720932 , 0.52327631, 0.3098248 , 0.49396811, 0.30979755,\n",
              "        0.51133286]])"
            ]
          },
          "metadata": {
            "tags": []
          },
          "execution_count": 109
        }
      ]
    },
    {
      "cell_type": "code",
      "metadata": {
        "id": "M-QEzNgCs27w",
        "colab_type": "code",
        "colab": {}
      },
      "source": [
        "model_results.drop('id', inplace=True, axis=1)"
      ],
      "execution_count": 0,
      "outputs": []
    },
    {
      "cell_type": "code",
      "metadata": {
        "id": "pxqAOtuRdavb",
        "colab_type": "code",
        "outputId": "1c6d8207-afd9-4cb1-d250-77807b423625",
        "colab": {
          "base_uri": "https://localhost:8080/",
          "height": 227
        }
      },
      "source": [
        "model_results"
      ],
      "execution_count": 0,
      "outputs": [
        {
          "output_type": "execute_result",
          "data": {
            "text/html": [
              "<div>\n",
              "<style scoped>\n",
              "    .dataframe tbody tr th:only-of-type {\n",
              "        vertical-align: middle;\n",
              "    }\n",
              "\n",
              "    .dataframe tbody tr th {\n",
              "        vertical-align: top;\n",
              "    }\n",
              "\n",
              "    .dataframe thead th {\n",
              "        text-align: right;\n",
              "    }\n",
              "</style>\n",
              "<table border=\"1\" class=\"dataframe\">\n",
              "  <thead>\n",
              "    <tr style=\"text-align: right;\">\n",
              "      <th></th>\n",
              "      <th>id</th>\n",
              "      <th>popularity</th>\n",
              "      <th>danceability</th>\n",
              "      <th>energy</th>\n",
              "      <th>key</th>\n",
              "      <th>loudness</th>\n",
              "      <th>mode</th>\n",
              "      <th>speechiness</th>\n",
              "      <th>acousticness</th>\n",
              "      <th>instrumentalness</th>\n",
              "      <th>liveness</th>\n",
              "      <th>valence</th>\n",
              "      <th>tempo</th>\n",
              "      <th>time_signature</th>\n",
              "    </tr>\n",
              "  </thead>\n",
              "  <tbody>\n",
              "    <tr>\n",
              "      <th>47418</th>\n",
              "      <td>4GT3fRkjpQO8uXEWe0A4oB</td>\n",
              "      <td>45</td>\n",
              "      <td>0.650</td>\n",
              "      <td>0.3790</td>\n",
              "      <td>9</td>\n",
              "      <td>-13.578</td>\n",
              "      <td>1</td>\n",
              "      <td>0.0337</td>\n",
              "      <td>0.319000</td>\n",
              "      <td>0.000000</td>\n",
              "      <td>0.0669</td>\n",
              "      <td>0.8460</td>\n",
              "      <td>94.102</td>\n",
              "      <td>4</td>\n",
              "    </tr>\n",
              "    <tr>\n",
              "      <th>52528</th>\n",
              "      <td>25CbtOzU8Pn17SAaXFjIR3</td>\n",
              "      <td>61</td>\n",
              "      <td>0.620</td>\n",
              "      <td>0.9120</td>\n",
              "      <td>1</td>\n",
              "      <td>-4.011</td>\n",
              "      <td>1</td>\n",
              "      <td>0.2210</td>\n",
              "      <td>0.072800</td>\n",
              "      <td>0.000072</td>\n",
              "      <td>0.2490</td>\n",
              "      <td>0.2910</td>\n",
              "      <td>106.236</td>\n",
              "      <td>4</td>\n",
              "    </tr>\n",
              "    <tr>\n",
              "      <th>58222</th>\n",
              "      <td>5Qz24iSE8LHJE59th8ZLXV</td>\n",
              "      <td>26</td>\n",
              "      <td>0.383</td>\n",
              "      <td>0.8300</td>\n",
              "      <td>2</td>\n",
              "      <td>-9.651</td>\n",
              "      <td>1</td>\n",
              "      <td>0.0316</td>\n",
              "      <td>0.000406</td>\n",
              "      <td>0.000907</td>\n",
              "      <td>0.0978</td>\n",
              "      <td>0.4380</td>\n",
              "      <td>87.860</td>\n",
              "      <td>4</td>\n",
              "    </tr>\n",
              "    <tr>\n",
              "      <th>57483</th>\n",
              "      <td>3idfggIyrM5K3YronEy8mn</td>\n",
              "      <td>34</td>\n",
              "      <td>0.209</td>\n",
              "      <td>0.0292</td>\n",
              "      <td>7</td>\n",
              "      <td>-27.350</td>\n",
              "      <td>0</td>\n",
              "      <td>0.0418</td>\n",
              "      <td>0.935000</td>\n",
              "      <td>0.108000</td>\n",
              "      <td>0.0703</td>\n",
              "      <td>0.0624</td>\n",
              "      <td>82.277</td>\n",
              "      <td>3</td>\n",
              "    </tr>\n",
              "    <tr>\n",
              "      <th>52670</th>\n",
              "      <td>1icudzJCEUyjOVYzw7emST</td>\n",
              "      <td>52</td>\n",
              "      <td>0.456</td>\n",
              "      <td>0.9210</td>\n",
              "      <td>9</td>\n",
              "      <td>-6.466</td>\n",
              "      <td>1</td>\n",
              "      <td>0.0671</td>\n",
              "      <td>0.000063</td>\n",
              "      <td>0.651000</td>\n",
              "      <td>0.0649</td>\n",
              "      <td>0.5650</td>\n",
              "      <td>166.645</td>\n",
              "      <td>4</td>\n",
              "    </tr>\n",
              "    <tr>\n",
              "      <th>48741</th>\n",
              "      <td>0EANX0OVKSCcmarY50Xa4p</td>\n",
              "      <td>67</td>\n",
              "      <td>0.309</td>\n",
              "      <td>0.1810</td>\n",
              "      <td>10</td>\n",
              "      <td>-17.022</td>\n",
              "      <td>1</td>\n",
              "      <td>0.0337</td>\n",
              "      <td>0.870000</td>\n",
              "      <td>0.000279</td>\n",
              "      <td>0.1180</td>\n",
              "      <td>0.1460</td>\n",
              "      <td>124.711</td>\n",
              "      <td>4</td>\n",
              "    </tr>\n",
              "  </tbody>\n",
              "</table>\n",
              "</div>"
            ],
            "text/plain": [
              "                           id  popularity  ...    tempo  time_signature\n",
              "47418  4GT3fRkjpQO8uXEWe0A4oB          45  ...   94.102               4\n",
              "52528  25CbtOzU8Pn17SAaXFjIR3          61  ...  106.236               4\n",
              "58222  5Qz24iSE8LHJE59th8ZLXV          26  ...   87.860               4\n",
              "57483  3idfggIyrM5K3YronEy8mn          34  ...   82.277               3\n",
              "52670  1icudzJCEUyjOVYzw7emST          52  ...  166.645               4\n",
              "48741  0EANX0OVKSCcmarY50Xa4p          67  ...  124.711               4\n",
              "\n",
              "[6 rows x 14 columns]"
            ]
          },
          "metadata": {
            "tags": []
          },
          "execution_count": 110
        }
      ]
    },
    {
      "cell_type": "code",
      "metadata": {
        "id": "NdvT_2hqvlqn",
        "colab_type": "code",
        "colab": {}
      },
      "source": [
        "import pprint"
      ],
      "execution_count": 0,
      "outputs": []
    },
    {
      "cell_type": "code",
      "metadata": {
        "id": "Bq_bYrPvvPv0",
        "colab_type": "code",
        "colab": {}
      },
      "source": [
        "model_track_ids = model_results.id\n",
        "model_result_query = sp.tracks(model_track_ids)\n",
        "results_dict_list = {}\n",
        "for i in range(6):\n",
        "    results_dict = {k:np.nan for k in ['artist', 'track_name', 'track_id', 'album_cover']}\n",
        "    results_dict['artist'] = model_result_query['tracks'][i]['artists'][0]['name']\n",
        "    results_dict['track_name'] = model_result_query['tracks'][i]['name']\n",
        "    results_dict['track_id'] = model_result_query['tracks'][i]['id']\n",
        "    results_dict['album_cover'] = model_result_query['tracks'][i]['album']['images'][0]['url']\n",
        "    results_dict_list[i] = results_dict\n"
      ],
      "execution_count": 0,
      "outputs": []
    },
    {
      "cell_type": "code",
      "metadata": {
        "id": "qWpsahlKvikM",
        "colab_type": "code",
        "outputId": "ba434a67-af46-47a1-eb33-b6b29c5a4b64",
        "colab": {
          "base_uri": "https://localhost:8080/",
          "height": 54
        }
      },
      "source": [
        "print(results_dict_list)"
      ],
      "execution_count": 0,
      "outputs": [
        {
          "output_type": "stream",
          "text": [
            "{0: {'artist': 'Los Invasores De Nuevo León', 'track_name': 'Qué Valor De Mujer', 'track_id': '4GT3fRkjpQO8uXEWe0A4oB', 'album_cover': 'https://i.scdn.co/image/ab67616d0000b273684ea0463534a4d7fe8290d1'}, 1: {'artist': 'Rage Against The Machine', 'track_name': 'Take The Power Back', 'track_id': '25CbtOzU8Pn17SAaXFjIR3', 'album_cover': 'https://i.scdn.co/image/ab67616d0000b2737676c7bf4e667590e496c2a3'}, 2: {'artist': 'Dio', 'track_name': 'Hey Angel', 'track_id': '5Qz24iSE8LHJE59th8ZLXV', 'album_cover': 'https://i.scdn.co/image/ab67616d0000b27398af31a753a0d2a8b73a194c'}, 3: {'artist': 'Leopold Stokowski', 'track_name': 'The Nutcracker Suite, Op. 71A, Arabian Dance', 'track_id': '3idfggIyrM5K3YronEy8mn', 'album_cover': 'https://i.scdn.co/image/ab67616d0000b273e30ae73c7764830d541efba7'}, 4: {'artist': 'TOOL', 'track_name': 'Hush', 'track_id': '1icudzJCEUyjOVYzw7emST', 'album_cover': 'https://i.scdn.co/image/ab67616d0000b273ac74c9c72ab2e3be3d53225f'}, 5: {'artist': 'Elton John', 'track_name': 'Can You Feel the Love Tonight - End Title/ From \"The Lion King\"/Soundtrack Version', 'track_id': '0EANX0OVKSCcmarY50Xa4p', 'album_cover': 'https://i.scdn.co/image/ab67616d0000b273660aadbda2da6b1c2dd3d1a5'}}\n"
          ],
          "name": "stdout"
        }
      ]
    },
    {
      "cell_type": "code",
      "metadata": {
        "id": "Pm02ms58aFow",
        "colab_type": "code",
        "outputId": "28494fbe-ff68-4357-fe13-556105c6b246",
        "colab": {
          "base_uri": "https://localhost:8080/",
          "height": 405
        }
      },
      "source": [
        "result = get_stuff('Nsync', 'Pop')"
      ],
      "execution_count": 0,
      "outputs": [
        {
          "output_type": "error",
          "ename": "RuntimeError",
          "evalue": "ignored",
          "traceback": [
            "\u001b[0;31m---------------------------------------------------------------------------\u001b[0m",
            "\u001b[0;31mRuntimeError\u001b[0m                              Traceback (most recent call last)",
            "\u001b[0;32m<ipython-input-79-b831204bd3fc>\u001b[0m in \u001b[0;36m<module>\u001b[0;34m()\u001b[0m\n\u001b[0;32m----> 1\u001b[0;31m \u001b[0mresult\u001b[0m \u001b[0;34m=\u001b[0m \u001b[0mget_stuff\u001b[0m\u001b[0;34m(\u001b[0m\u001b[0;34m'Nsync'\u001b[0m\u001b[0;34m,\u001b[0m \u001b[0;34m'Pop'\u001b[0m\u001b[0;34m)\u001b[0m\u001b[0;34m\u001b[0m\u001b[0;34m\u001b[0m\u001b[0m\n\u001b[0m",
            "\u001b[0;32m<ipython-input-78-53aa23864e4a>\u001b[0m in \u001b[0;36mget_stuff\u001b[0;34m(artist_name, track_name)\u001b[0m\n\u001b[1;32m      8\u001b[0m      \u001b[0;32mdel\u001b[0m \u001b[0maudio_features\u001b[0m\u001b[0;34m[\u001b[0m\u001b[0mkey\u001b[0m\u001b[0;34m]\u001b[0m\u001b[0;34m\u001b[0m\u001b[0;34m\u001b[0m\u001b[0m\n\u001b[1;32m      9\u001b[0m    \u001b[0maudio_features_df\u001b[0m \u001b[0;34m=\u001b[0m \u001b[0mpd\u001b[0m\u001b[0;34m.\u001b[0m\u001b[0mDataFrame\u001b[0m\u001b[0;34m(\u001b[0m\u001b[0maudio_features\u001b[0m\u001b[0;34m,\u001b[0m \u001b[0mindex\u001b[0m\u001b[0;34m=\u001b[0m\u001b[0;34m[\u001b[0m\u001b[0;36m0\u001b[0m\u001b[0;34m]\u001b[0m\u001b[0;34m)\u001b[0m\u001b[0;34m\u001b[0m\u001b[0;34m\u001b[0m\u001b[0m\n\u001b[0;32m---> 10\u001b[0;31m    \u001b[0maudio_features_json\u001b[0m \u001b[0;34m=\u001b[0m \u001b[0mjsonify\u001b[0m\u001b[0;34m(\u001b[0m\u001b[0maudio_features\u001b[0m\u001b[0;34m)\u001b[0m\u001b[0;34m\u001b[0m\u001b[0;34m\u001b[0m\u001b[0m\n\u001b[0m\u001b[1;32m     11\u001b[0m    \u001b[0;31m#MODEL RETURNS 6 RECOMMENDS\u001b[0m\u001b[0;34m\u001b[0m\u001b[0;34m\u001b[0m\u001b[0;34m\u001b[0m\u001b[0m\n\u001b[1;32m     12\u001b[0m    \u001b[0mSPOTIFY_DB_NAME\u001b[0m \u001b[0;34m=\u001b[0m \u001b[0;34m\"phmcuozt\"\u001b[0m\u001b[0;34m\u001b[0m\u001b[0;34m\u001b[0m\u001b[0m\n",
            "\u001b[0;32m/usr/local/lib/python3.6/dist-packages/flask/json/__init__.py\u001b[0m in \u001b[0;36mjsonify\u001b[0;34m(*args, **kwargs)\u001b[0m\n\u001b[1;32m    356\u001b[0m     \u001b[0mseparators\u001b[0m \u001b[0;34m=\u001b[0m \u001b[0;34m(\u001b[0m\u001b[0;34m\",\"\u001b[0m\u001b[0;34m,\u001b[0m \u001b[0;34m\":\"\u001b[0m\u001b[0;34m)\u001b[0m\u001b[0;34m\u001b[0m\u001b[0;34m\u001b[0m\u001b[0m\n\u001b[1;32m    357\u001b[0m \u001b[0;34m\u001b[0m\u001b[0m\n\u001b[0;32m--> 358\u001b[0;31m     \u001b[0;32mif\u001b[0m \u001b[0mcurrent_app\u001b[0m\u001b[0;34m.\u001b[0m\u001b[0mconfig\u001b[0m\u001b[0;34m[\u001b[0m\u001b[0;34m\"JSONIFY_PRETTYPRINT_REGULAR\"\u001b[0m\u001b[0;34m]\u001b[0m \u001b[0;32mor\u001b[0m \u001b[0mcurrent_app\u001b[0m\u001b[0;34m.\u001b[0m\u001b[0mdebug\u001b[0m\u001b[0;34m:\u001b[0m\u001b[0;34m\u001b[0m\u001b[0;34m\u001b[0m\u001b[0m\n\u001b[0m\u001b[1;32m    359\u001b[0m         \u001b[0mindent\u001b[0m \u001b[0;34m=\u001b[0m \u001b[0;36m2\u001b[0m\u001b[0;34m\u001b[0m\u001b[0;34m\u001b[0m\u001b[0m\n\u001b[1;32m    360\u001b[0m         \u001b[0mseparators\u001b[0m \u001b[0;34m=\u001b[0m \u001b[0;34m(\u001b[0m\u001b[0;34m\", \"\u001b[0m\u001b[0;34m,\u001b[0m \u001b[0;34m\": \"\u001b[0m\u001b[0;34m)\u001b[0m\u001b[0;34m\u001b[0m\u001b[0;34m\u001b[0m\u001b[0m\n",
            "\u001b[0;32m/usr/local/lib/python3.6/dist-packages/werkzeug/local.py\u001b[0m in \u001b[0;36m__getattr__\u001b[0;34m(self, name)\u001b[0m\n\u001b[1;32m    345\u001b[0m         \u001b[0;32mif\u001b[0m \u001b[0mname\u001b[0m \u001b[0;34m==\u001b[0m \u001b[0;34m\"__members__\"\u001b[0m\u001b[0;34m:\u001b[0m\u001b[0;34m\u001b[0m\u001b[0;34m\u001b[0m\u001b[0m\n\u001b[1;32m    346\u001b[0m             \u001b[0;32mreturn\u001b[0m \u001b[0mdir\u001b[0m\u001b[0;34m(\u001b[0m\u001b[0mself\u001b[0m\u001b[0;34m.\u001b[0m\u001b[0m_get_current_object\u001b[0m\u001b[0;34m(\u001b[0m\u001b[0;34m)\u001b[0m\u001b[0;34m)\u001b[0m\u001b[0;34m\u001b[0m\u001b[0;34m\u001b[0m\u001b[0m\n\u001b[0;32m--> 347\u001b[0;31m         \u001b[0;32mreturn\u001b[0m \u001b[0mgetattr\u001b[0m\u001b[0;34m(\u001b[0m\u001b[0mself\u001b[0m\u001b[0;34m.\u001b[0m\u001b[0m_get_current_object\u001b[0m\u001b[0;34m(\u001b[0m\u001b[0;34m)\u001b[0m\u001b[0;34m,\u001b[0m \u001b[0mname\u001b[0m\u001b[0;34m)\u001b[0m\u001b[0;34m\u001b[0m\u001b[0;34m\u001b[0m\u001b[0m\n\u001b[0m\u001b[1;32m    348\u001b[0m \u001b[0;34m\u001b[0m\u001b[0m\n\u001b[1;32m    349\u001b[0m     \u001b[0;32mdef\u001b[0m \u001b[0m__setitem__\u001b[0m\u001b[0;34m(\u001b[0m\u001b[0mself\u001b[0m\u001b[0;34m,\u001b[0m \u001b[0mkey\u001b[0m\u001b[0;34m,\u001b[0m \u001b[0mvalue\u001b[0m\u001b[0;34m)\u001b[0m\u001b[0;34m:\u001b[0m\u001b[0;34m\u001b[0m\u001b[0;34m\u001b[0m\u001b[0m\n",
            "\u001b[0;32m/usr/local/lib/python3.6/dist-packages/werkzeug/local.py\u001b[0m in \u001b[0;36m_get_current_object\u001b[0;34m(self)\u001b[0m\n\u001b[1;32m    304\u001b[0m         \"\"\"\n\u001b[1;32m    305\u001b[0m         \u001b[0;32mif\u001b[0m \u001b[0;32mnot\u001b[0m \u001b[0mhasattr\u001b[0m\u001b[0;34m(\u001b[0m\u001b[0mself\u001b[0m\u001b[0;34m.\u001b[0m\u001b[0m__local\u001b[0m\u001b[0;34m,\u001b[0m \u001b[0;34m\"__release_local__\"\u001b[0m\u001b[0;34m)\u001b[0m\u001b[0;34m:\u001b[0m\u001b[0;34m\u001b[0m\u001b[0;34m\u001b[0m\u001b[0m\n\u001b[0;32m--> 306\u001b[0;31m             \u001b[0;32mreturn\u001b[0m \u001b[0mself\u001b[0m\u001b[0;34m.\u001b[0m\u001b[0m__local\u001b[0m\u001b[0;34m(\u001b[0m\u001b[0;34m)\u001b[0m\u001b[0;34m\u001b[0m\u001b[0;34m\u001b[0m\u001b[0m\n\u001b[0m\u001b[1;32m    307\u001b[0m         \u001b[0;32mtry\u001b[0m\u001b[0;34m:\u001b[0m\u001b[0;34m\u001b[0m\u001b[0;34m\u001b[0m\u001b[0m\n\u001b[1;32m    308\u001b[0m             \u001b[0;32mreturn\u001b[0m \u001b[0mgetattr\u001b[0m\u001b[0;34m(\u001b[0m\u001b[0mself\u001b[0m\u001b[0;34m.\u001b[0m\u001b[0m__local\u001b[0m\u001b[0;34m,\u001b[0m \u001b[0mself\u001b[0m\u001b[0;34m.\u001b[0m\u001b[0m__name__\u001b[0m\u001b[0;34m)\u001b[0m\u001b[0;34m\u001b[0m\u001b[0;34m\u001b[0m\u001b[0m\n",
            "\u001b[0;32m/usr/local/lib/python3.6/dist-packages/flask/globals.py\u001b[0m in \u001b[0;36m_find_app\u001b[0;34m()\u001b[0m\n\u001b[1;32m     50\u001b[0m     \u001b[0mtop\u001b[0m \u001b[0;34m=\u001b[0m \u001b[0m_app_ctx_stack\u001b[0m\u001b[0;34m.\u001b[0m\u001b[0mtop\u001b[0m\u001b[0;34m\u001b[0m\u001b[0;34m\u001b[0m\u001b[0m\n\u001b[1;32m     51\u001b[0m     \u001b[0;32mif\u001b[0m \u001b[0mtop\u001b[0m \u001b[0;32mis\u001b[0m \u001b[0;32mNone\u001b[0m\u001b[0;34m:\u001b[0m\u001b[0;34m\u001b[0m\u001b[0;34m\u001b[0m\u001b[0m\n\u001b[0;32m---> 52\u001b[0;31m         \u001b[0;32mraise\u001b[0m \u001b[0mRuntimeError\u001b[0m\u001b[0;34m(\u001b[0m\u001b[0m_app_ctx_err_msg\u001b[0m\u001b[0;34m)\u001b[0m\u001b[0;34m\u001b[0m\u001b[0;34m\u001b[0m\u001b[0m\n\u001b[0m\u001b[1;32m     53\u001b[0m     \u001b[0;32mreturn\u001b[0m \u001b[0mtop\u001b[0m\u001b[0;34m.\u001b[0m\u001b[0mapp\u001b[0m\u001b[0;34m\u001b[0m\u001b[0;34m\u001b[0m\u001b[0m\n\u001b[1;32m     54\u001b[0m \u001b[0;34m\u001b[0m\u001b[0m\n",
            "\u001b[0;31mRuntimeError\u001b[0m: Working outside of application context.\n\nThis typically means that you attempted to use functionality that needed\nto interface with the current application object in some way. To solve\nthis, set up an application context with app.app_context().  See the\ndocumentation for more information."
          ]
        }
      ]
    },
    {
      "cell_type": "code",
      "metadata": {
        "id": "jhgRJHbgaWTX",
        "colab_type": "code",
        "outputId": "79fadcfd-8b1f-4110-c863-6cb4d9a72021",
        "colab": {
          "base_uri": "https://localhost:8080/",
          "height": 1000
        }
      },
      "source": [
        "result"
      ],
      "execution_count": 0,
      "outputs": [
        {
          "output_type": "execute_result",
          "data": {
            "text/plain": [
              "{'tracks': {'href': 'https://api.spotify.com/v1/search?query=artist%3ANsync+track%3APop&type=track&offset=0&limit=10',\n",
              "  'items': [{'album': {'album_type': 'album',\n",
              "     'artists': [{'external_urls': {'spotify': 'https://open.spotify.com/artist/6Ff53KvcvAj5U7Z1vojB5o'},\n",
              "       'href': 'https://api.spotify.com/v1/artists/6Ff53KvcvAj5U7Z1vojB5o',\n",
              "       'id': '6Ff53KvcvAj5U7Z1vojB5o',\n",
              "       'name': '*NSYNC',\n",
              "       'type': 'artist',\n",
              "       'uri': 'spotify:artist:6Ff53KvcvAj5U7Z1vojB5o'}],\n",
              "     'available_markets': ['AR',\n",
              "      'BO',\n",
              "      'BR',\n",
              "      'CA',\n",
              "      'CL',\n",
              "      'CO',\n",
              "      'CR',\n",
              "      'DO',\n",
              "      'EC',\n",
              "      'GT',\n",
              "      'HK',\n",
              "      'HN',\n",
              "      'ID',\n",
              "      'IN',\n",
              "      'MX',\n",
              "      'MY',\n",
              "      'NI',\n",
              "      'PA',\n",
              "      'PE',\n",
              "      'PH',\n",
              "      'PY',\n",
              "      'SG',\n",
              "      'SV',\n",
              "      'TH',\n",
              "      'TW',\n",
              "      'US',\n",
              "      'UY',\n",
              "      'VN'],\n",
              "     'external_urls': {'spotify': 'https://open.spotify.com/album/7zBue2Vuzg4Z3ncRXaIkJg'},\n",
              "     'href': 'https://api.spotify.com/v1/albums/7zBue2Vuzg4Z3ncRXaIkJg',\n",
              "     'id': '7zBue2Vuzg4Z3ncRXaIkJg',\n",
              "     'images': [{'height': 640,\n",
              "       'url': 'https://i.scdn.co/image/ab67616d0000b273270bccf2f538d6f170bd0e2d',\n",
              "       'width': 640},\n",
              "      {'height': 300,\n",
              "       'url': 'https://i.scdn.co/image/ab67616d00001e02270bccf2f538d6f170bd0e2d',\n",
              "       'width': 300},\n",
              "      {'height': 64,\n",
              "       'url': 'https://i.scdn.co/image/ab67616d00004851270bccf2f538d6f170bd0e2d',\n",
              "       'width': 64}],\n",
              "     'name': 'Celebrity',\n",
              "     'release_date': '2001-07-24',\n",
              "     'release_date_precision': 'day',\n",
              "     'total_tracks': 13,\n",
              "     'type': 'album',\n",
              "     'uri': 'spotify:album:7zBue2Vuzg4Z3ncRXaIkJg'},\n",
              "    'artists': [{'external_urls': {'spotify': 'https://open.spotify.com/artist/6Ff53KvcvAj5U7Z1vojB5o'},\n",
              "      'href': 'https://api.spotify.com/v1/artists/6Ff53KvcvAj5U7Z1vojB5o',\n",
              "      'id': '6Ff53KvcvAj5U7Z1vojB5o',\n",
              "      'name': '*NSYNC',\n",
              "      'type': 'artist',\n",
              "      'uri': 'spotify:artist:6Ff53KvcvAj5U7Z1vojB5o'}],\n",
              "    'available_markets': ['AR',\n",
              "     'BO',\n",
              "     'BR',\n",
              "     'CA',\n",
              "     'CL',\n",
              "     'CO',\n",
              "     'CR',\n",
              "     'DO',\n",
              "     'EC',\n",
              "     'GT',\n",
              "     'HK',\n",
              "     'HN',\n",
              "     'ID',\n",
              "     'IN',\n",
              "     'MX',\n",
              "     'MY',\n",
              "     'NI',\n",
              "     'PA',\n",
              "     'PE',\n",
              "     'PH',\n",
              "     'PY',\n",
              "     'SG',\n",
              "     'SV',\n",
              "     'TH',\n",
              "     'TW',\n",
              "     'US',\n",
              "     'UY',\n",
              "     'VN'],\n",
              "    'disc_number': 1,\n",
              "    'duration_ms': 238426,\n",
              "    'explicit': False,\n",
              "    'external_ids': {'isrc': 'USJI10100205'},\n",
              "    'external_urls': {'spotify': 'https://open.spotify.com/track/0Jc8qF1mUPo1A96HE9QxZz'},\n",
              "    'href': 'https://api.spotify.com/v1/tracks/0Jc8qF1mUPo1A96HE9QxZz',\n",
              "    'id': '0Jc8qF1mUPo1A96HE9QxZz',\n",
              "    'is_local': False,\n",
              "    'name': 'Pop',\n",
              "    'popularity': 56,\n",
              "    'preview_url': 'https://p.scdn.co/mp3-preview/8ab4f22f60d0fec23d2c05186984e6cb5d7a2142?cid=41467bca65514079952e212808b80b3e',\n",
              "    'track_number': 1,\n",
              "    'type': 'track',\n",
              "    'uri': 'spotify:track:0Jc8qF1mUPo1A96HE9QxZz'},\n",
              "   {'album': {'album_type': 'compilation',\n",
              "     'artists': [{'external_urls': {'spotify': 'https://open.spotify.com/artist/6Ff53KvcvAj5U7Z1vojB5o'},\n",
              "       'href': 'https://api.spotify.com/v1/artists/6Ff53KvcvAj5U7Z1vojB5o',\n",
              "       'id': '6Ff53KvcvAj5U7Z1vojB5o',\n",
              "       'name': '*NSYNC',\n",
              "       'type': 'artist',\n",
              "       'uri': 'spotify:artist:6Ff53KvcvAj5U7Z1vojB5o'}],\n",
              "     'available_markets': ['AE',\n",
              "      'AR',\n",
              "      'BH',\n",
              "      'BO',\n",
              "      'BR',\n",
              "      'CA',\n",
              "      'CL',\n",
              "      'CO',\n",
              "      'CR',\n",
              "      'DO',\n",
              "      'EC',\n",
              "      'EG',\n",
              "      'GT',\n",
              "      'HK',\n",
              "      'HN',\n",
              "      'ID',\n",
              "      'IN',\n",
              "      'JO',\n",
              "      'JP',\n",
              "      'KW',\n",
              "      'LB',\n",
              "      'MX',\n",
              "      'MY',\n",
              "      'NI',\n",
              "      'OM',\n",
              "      'PA',\n",
              "      'PE',\n",
              "      'PH',\n",
              "      'PS',\n",
              "      'PY',\n",
              "      'QA',\n",
              "      'SA',\n",
              "      'SG',\n",
              "      'SV',\n",
              "      'TH',\n",
              "      'TW',\n",
              "      'US',\n",
              "      'UY',\n",
              "      'VN'],\n",
              "     'external_urls': {'spotify': 'https://open.spotify.com/album/45gbCmUeq5ZMgXiDkPweRD'},\n",
              "     'href': 'https://api.spotify.com/v1/albums/45gbCmUeq5ZMgXiDkPweRD',\n",
              "     'id': '45gbCmUeq5ZMgXiDkPweRD',\n",
              "     'images': [{'height': 640,\n",
              "       'url': 'https://i.scdn.co/image/ab67616d0000b2733cf9722343ca133f1c4df89e',\n",
              "       'width': 640},\n",
              "      {'height': 300,\n",
              "       'url': 'https://i.scdn.co/image/ab67616d00001e023cf9722343ca133f1c4df89e',\n",
              "       'width': 300},\n",
              "      {'height': 64,\n",
              "       'url': 'https://i.scdn.co/image/ab67616d000048513cf9722343ca133f1c4df89e',\n",
              "       'width': 64}],\n",
              "     'name': 'Greatest Hits',\n",
              "     'release_date': '2005-10-25',\n",
              "     'release_date_precision': 'day',\n",
              "     'total_tracks': 12,\n",
              "     'type': 'album',\n",
              "     'uri': 'spotify:album:45gbCmUeq5ZMgXiDkPweRD'},\n",
              "    'artists': [{'external_urls': {'spotify': 'https://open.spotify.com/artist/6Ff53KvcvAj5U7Z1vojB5o'},\n",
              "      'href': 'https://api.spotify.com/v1/artists/6Ff53KvcvAj5U7Z1vojB5o',\n",
              "      'id': '6Ff53KvcvAj5U7Z1vojB5o',\n",
              "      'name': '*NSYNC',\n",
              "      'type': 'artist',\n",
              "      'uri': 'spotify:artist:6Ff53KvcvAj5U7Z1vojB5o'}],\n",
              "    'available_markets': ['AE',\n",
              "     'AR',\n",
              "     'BH',\n",
              "     'BO',\n",
              "     'BR',\n",
              "     'CA',\n",
              "     'CL',\n",
              "     'CO',\n",
              "     'CR',\n",
              "     'DO',\n",
              "     'EC',\n",
              "     'EG',\n",
              "     'GT',\n",
              "     'HK',\n",
              "     'HN',\n",
              "     'ID',\n",
              "     'IN',\n",
              "     'JO',\n",
              "     'JP',\n",
              "     'KW',\n",
              "     'LB',\n",
              "     'MX',\n",
              "     'MY',\n",
              "     'NI',\n",
              "     'OM',\n",
              "     'PA',\n",
              "     'PE',\n",
              "     'PH',\n",
              "     'PS',\n",
              "     'PY',\n",
              "     'QA',\n",
              "     'SA',\n",
              "     'SG',\n",
              "     'SV',\n",
              "     'TH',\n",
              "     'TW',\n",
              "     'US',\n",
              "     'UY',\n",
              "     'VN'],\n",
              "    'disc_number': 1,\n",
              "    'duration_ms': 175520,\n",
              "    'explicit': False,\n",
              "    'external_ids': {'isrc': 'USJI10100144'},\n",
              "    'external_urls': {'spotify': 'https://open.spotify.com/track/3fi4doxNs7OYgE9aMWC2cZ'},\n",
              "    'href': 'https://api.spotify.com/v1/tracks/3fi4doxNs7OYgE9aMWC2cZ',\n",
              "    'id': '3fi4doxNs7OYgE9aMWC2cZ',\n",
              "    'is_local': False,\n",
              "    'name': 'Pop - Radio Version',\n",
              "    'popularity': 34,\n",
              "    'preview_url': 'https://p.scdn.co/mp3-preview/a1ef976531deb0a414c12871197efff11184be5b?cid=41467bca65514079952e212808b80b3e',\n",
              "    'track_number': 7,\n",
              "    'type': 'track',\n",
              "    'uri': 'spotify:track:3fi4doxNs7OYgE9aMWC2cZ'},\n",
              "   {'album': {'album_type': 'compilation',\n",
              "     'artists': [{'external_urls': {'spotify': 'https://open.spotify.com/artist/6Ff53KvcvAj5U7Z1vojB5o'},\n",
              "       'href': 'https://api.spotify.com/v1/artists/6Ff53KvcvAj5U7Z1vojB5o',\n",
              "       'id': '6Ff53KvcvAj5U7Z1vojB5o',\n",
              "       'name': '*NSYNC',\n",
              "       'type': 'artist',\n",
              "       'uri': 'spotify:artist:6Ff53KvcvAj5U7Z1vojB5o'}],\n",
              "     'available_markets': ['AD',\n",
              "      'AE',\n",
              "      'AR',\n",
              "      'AT',\n",
              "      'AU',\n",
              "      'BE',\n",
              "      'BG',\n",
              "      'BH',\n",
              "      'BO',\n",
              "      'BR',\n",
              "      'CA',\n",
              "      'CH',\n",
              "      'CL',\n",
              "      'CO',\n",
              "      'CR',\n",
              "      'CY',\n",
              "      'CZ',\n",
              "      'DE',\n",
              "      'DK',\n",
              "      'DO',\n",
              "      'DZ',\n",
              "      'EC',\n",
              "      'EE',\n",
              "      'EG',\n",
              "      'ES',\n",
              "      'FI',\n",
              "      'FR',\n",
              "      'GB',\n",
              "      'GR',\n",
              "      'GT',\n",
              "      'HK',\n",
              "      'HN',\n",
              "      'HU',\n",
              "      'ID',\n",
              "      'IE',\n",
              "      'IL',\n",
              "      'IN',\n",
              "      'IS',\n",
              "      'IT',\n",
              "      'JO',\n",
              "      'JP',\n",
              "      'KW',\n",
              "      'LB',\n",
              "      'LI',\n",
              "      'LT',\n",
              "      'LU',\n",
              "      'LV',\n",
              "      'MA',\n",
              "      'MC',\n",
              "      'MT',\n",
              "      'MX',\n",
              "      'MY',\n",
              "      'NI',\n",
              "      'NL',\n",
              "      'NO',\n",
              "      'NZ',\n",
              "      'OM',\n",
              "      'PA',\n",
              "      'PE',\n",
              "      'PH',\n",
              "      'PL',\n",
              "      'PS',\n",
              "      'PT',\n",
              "      'PY',\n",
              "      'QA',\n",
              "      'RO',\n",
              "      'SA',\n",
              "      'SE',\n",
              "      'SG',\n",
              "      'SK',\n",
              "      'SV',\n",
              "      'TH',\n",
              "      'TN',\n",
              "      'TR',\n",
              "      'TW',\n",
              "      'US',\n",
              "      'UY',\n",
              "      'VN',\n",
              "      'ZA'],\n",
              "     'external_urls': {'spotify': 'https://open.spotify.com/album/3bhFoH4PFnY4ifK4981U8X'},\n",
              "     'href': 'https://api.spotify.com/v1/albums/3bhFoH4PFnY4ifK4981U8X',\n",
              "     'id': '3bhFoH4PFnY4ifK4981U8X',\n",
              "     'images': [{'height': 640,\n",
              "       'url': 'https://i.scdn.co/image/ab67616d0000b27368a71db4b09063815c257187',\n",
              "       'width': 640},\n",
              "      {'height': 300,\n",
              "       'url': 'https://i.scdn.co/image/ab67616d00001e0268a71db4b09063815c257187',\n",
              "       'width': 300},\n",
              "      {'height': 64,\n",
              "       'url': 'https://i.scdn.co/image/ab67616d0000485168a71db4b09063815c257187',\n",
              "       'width': 64}],\n",
              "     'name': 'The Essential *NSYNC',\n",
              "     'release_date': '2014-07-29',\n",
              "     'release_date_precision': 'day',\n",
              "     'total_tracks': 34,\n",
              "     'type': 'album',\n",
              "     'uri': 'spotify:album:3bhFoH4PFnY4ifK4981U8X'},\n",
              "    'artists': [{'external_urls': {'spotify': 'https://open.spotify.com/artist/6Ff53KvcvAj5U7Z1vojB5o'},\n",
              "      'href': 'https://api.spotify.com/v1/artists/6Ff53KvcvAj5U7Z1vojB5o',\n",
              "      'id': '6Ff53KvcvAj5U7Z1vojB5o',\n",
              "      'name': '*NSYNC',\n",
              "      'type': 'artist',\n",
              "      'uri': 'spotify:artist:6Ff53KvcvAj5U7Z1vojB5o'}],\n",
              "    'available_markets': ['AD',\n",
              "     'AE',\n",
              "     'AR',\n",
              "     'AT',\n",
              "     'AU',\n",
              "     'BE',\n",
              "     'BG',\n",
              "     'BH',\n",
              "     'BO',\n",
              "     'BR',\n",
              "     'CA',\n",
              "     'CH',\n",
              "     'CL',\n",
              "     'CO',\n",
              "     'CR',\n",
              "     'CY',\n",
              "     'CZ',\n",
              "     'DE',\n",
              "     'DK',\n",
              "     'DO',\n",
              "     'DZ',\n",
              "     'EC',\n",
              "     'EE',\n",
              "     'EG',\n",
              "     'ES',\n",
              "     'FI',\n",
              "     'FR',\n",
              "     'GB',\n",
              "     'GR',\n",
              "     'GT',\n",
              "     'HK',\n",
              "     'HN',\n",
              "     'HU',\n",
              "     'ID',\n",
              "     'IE',\n",
              "     'IL',\n",
              "     'IN',\n",
              "     'IS',\n",
              "     'IT',\n",
              "     'JO',\n",
              "     'JP',\n",
              "     'KW',\n",
              "     'LB',\n",
              "     'LI',\n",
              "     'LT',\n",
              "     'LU',\n",
              "     'LV',\n",
              "     'MA',\n",
              "     'MC',\n",
              "     'MT',\n",
              "     'MX',\n",
              "     'MY',\n",
              "     'NI',\n",
              "     'NL',\n",
              "     'NO',\n",
              "     'NZ',\n",
              "     'OM',\n",
              "     'PA',\n",
              "     'PE',\n",
              "     'PH',\n",
              "     'PL',\n",
              "     'PS',\n",
              "     'PT',\n",
              "     'PY',\n",
              "     'QA',\n",
              "     'RO',\n",
              "     'SA',\n",
              "     'SE',\n",
              "     'SG',\n",
              "     'SK',\n",
              "     'SV',\n",
              "     'TH',\n",
              "     'TN',\n",
              "     'TR',\n",
              "     'TW',\n",
              "     'US',\n",
              "     'UY',\n",
              "     'VN',\n",
              "     'ZA'],\n",
              "    'disc_number': 1,\n",
              "    'duration_ms': 175826,\n",
              "    'explicit': False,\n",
              "    'external_ids': {'isrc': 'USJI10100144'},\n",
              "    'external_urls': {'spotify': 'https://open.spotify.com/track/0m5wvLqorC2Dq5HpvGUvMd'},\n",
              "    'href': 'https://api.spotify.com/v1/tracks/0m5wvLqorC2Dq5HpvGUvMd',\n",
              "    'id': '0m5wvLqorC2Dq5HpvGUvMd',\n",
              "    'is_local': False,\n",
              "    'name': 'Pop - Radio Version',\n",
              "    'popularity': 28,\n",
              "    'preview_url': 'https://p.scdn.co/mp3-preview/9d180490be9b392856d6c02384de018fbe1d4405?cid=41467bca65514079952e212808b80b3e',\n",
              "    'track_number': 15,\n",
              "    'type': 'track',\n",
              "    'uri': 'spotify:track:0m5wvLqorC2Dq5HpvGUvMd'},\n",
              "   {'album': {'album_type': 'compilation',\n",
              "     'artists': [{'external_urls': {'spotify': 'https://open.spotify.com/artist/0LyfQWJT6nXafLPZqxe9Of'},\n",
              "       'href': 'https://api.spotify.com/v1/artists/0LyfQWJT6nXafLPZqxe9Of',\n",
              "       'id': '0LyfQWJT6nXafLPZqxe9Of',\n",
              "       'name': 'Various Artists',\n",
              "       'type': 'artist',\n",
              "       'uri': 'spotify:artist:0LyfQWJT6nXafLPZqxe9Of'}],\n",
              "     'available_markets': ['US'],\n",
              "     'external_urls': {'spotify': 'https://open.spotify.com/album/2D2q1WWvtcsl7EwVS9DA88'},\n",
              "     'href': 'https://api.spotify.com/v1/albums/2D2q1WWvtcsl7EwVS9DA88',\n",
              "     'id': '2D2q1WWvtcsl7EwVS9DA88',\n",
              "     'images': [{'height': 640,\n",
              "       'url': 'https://i.scdn.co/image/ab67616d0000b2739eda355ac0fd5e73da39bd60',\n",
              "       'width': 640},\n",
              "      {'height': 300,\n",
              "       'url': 'https://i.scdn.co/image/ab67616d00001e029eda355ac0fd5e73da39bd60',\n",
              "       'width': 300},\n",
              "      {'height': 64,\n",
              "       'url': 'https://i.scdn.co/image/ab67616d000048519eda355ac0fd5e73da39bd60',\n",
              "       'width': 64}],\n",
              "     'name': \"NOW That's What I Call Music! 20th Anniversary, Vol. 2\",\n",
              "     'release_date': '2019-02-01',\n",
              "     'release_date_precision': 'day',\n",
              "     'total_tracks': 20,\n",
              "     'type': 'album',\n",
              "     'uri': 'spotify:album:2D2q1WWvtcsl7EwVS9DA88'},\n",
              "    'artists': [{'external_urls': {'spotify': 'https://open.spotify.com/artist/6Ff53KvcvAj5U7Z1vojB5o'},\n",
              "      'href': 'https://api.spotify.com/v1/artists/6Ff53KvcvAj5U7Z1vojB5o',\n",
              "      'id': '6Ff53KvcvAj5U7Z1vojB5o',\n",
              "      'name': '*NSYNC',\n",
              "      'type': 'artist',\n",
              "      'uri': 'spotify:artist:6Ff53KvcvAj5U7Z1vojB5o'}],\n",
              "    'available_markets': ['US'],\n",
              "    'disc_number': 1,\n",
              "    'duration_ms': 173933,\n",
              "    'explicit': False,\n",
              "    'external_ids': {'isrc': 'USJI10100144'},\n",
              "    'external_urls': {'spotify': 'https://open.spotify.com/track/56bq7BfOnkttOHgZ3mbfbs'},\n",
              "    'href': 'https://api.spotify.com/v1/tracks/56bq7BfOnkttOHgZ3mbfbs',\n",
              "    'id': '56bq7BfOnkttOHgZ3mbfbs',\n",
              "    'is_local': False,\n",
              "    'name': 'Pop - Radio Version',\n",
              "    'popularity': 11,\n",
              "    'preview_url': 'https://p.scdn.co/mp3-preview/aade27c2d6ba5fa37ea4882c7cf54cd152c8b9c3?cid=41467bca65514079952e212808b80b3e',\n",
              "    'track_number': 11,\n",
              "    'type': 'track',\n",
              "    'uri': 'spotify:track:56bq7BfOnkttOHgZ3mbfbs'}],\n",
              "  'limit': 10,\n",
              "  'next': None,\n",
              "  'offset': 0,\n",
              "  'previous': None,\n",
              "  'total': 4}}"
            ]
          },
          "metadata": {
            "tags": []
          },
          "execution_count": 70
        }
      ]
    },
    {
      "cell_type": "code",
      "metadata": {
        "id": "9kGQhw1oafW2",
        "colab_type": "code",
        "colab": {}
      },
      "source": [
        ""
      ],
      "execution_count": 0,
      "outputs": []
    }
  ]
}